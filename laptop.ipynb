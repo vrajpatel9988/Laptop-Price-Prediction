{
  "nbformat": 4,
  "nbformat_minor": 0,
  "metadata": {
    "colab": {
      "name": "laptop.ipynb",
      "provenance": []
    },
    "kernelspec": {
      "name": "python3",
      "display_name": "Python 3"
    },
    "language_info": {
      "name": "python"
    }
  },
  "cells": [
    {
      "cell_type": "markdown",
      "metadata": {
        "id": "44ZJm12INBZE"
      },
      "source": [
        "#Importing the Libraries"
      ]
    },
    {
      "cell_type": "code",
      "metadata": {
        "id": "U11M7BOKMLQh"
      },
      "source": [
        "import numpy as np\n",
        "import pandas as pd\n",
        "import matplotlib.pyplot as plt\n",
        "import seaborn as sns"
      ],
      "execution_count": null,
      "outputs": []
    },
    {
      "cell_type": "markdown",
      "metadata": {
        "id": "dM3v7k1mNFy0"
      },
      "source": [
        "#Loading the Dataset"
      ]
    },
    {
      "cell_type": "code",
      "metadata": {
        "id": "WlZf5xayMcSx"
      },
      "source": [
        "import io\n",
        "#df2 = pd.read_csv('laptop_price.csv')\n",
        "df2=pd.read_csv('laptop_price.csv',encoding='latin-1')"
      ],
      "execution_count": null,
      "outputs": []
    },
    {
      "cell_type": "markdown",
      "metadata": {
        "id": "HPaA6V1lNJMk"
      },
      "source": [
        "#Dispaying the data"
      ]
    },
    {
      "cell_type": "code",
      "metadata": {
        "colab": {
          "base_uri": "https://localhost:8080/",
          "height": 442
        },
        "id": "0XRMEMbFM-II",
        "outputId": "927d3f11-13c1-41fa-a7a6-8534215dc8e6"
      },
      "source": [
        "df2.head()"
      ],
      "execution_count": null,
      "outputs": [
        {
          "output_type": "execute_result",
          "data": {
            "text/html": [
              "<div>\n",
              "<style scoped>\n",
              "    .dataframe tbody tr th:only-of-type {\n",
              "        vertical-align: middle;\n",
              "    }\n",
              "\n",
              "    .dataframe tbody tr th {\n",
              "        vertical-align: top;\n",
              "    }\n",
              "\n",
              "    .dataframe thead th {\n",
              "        text-align: right;\n",
              "    }\n",
              "</style>\n",
              "<table border=\"1\" class=\"dataframe\">\n",
              "  <thead>\n",
              "    <tr style=\"text-align: right;\">\n",
              "      <th></th>\n",
              "      <th>laptop_ID</th>\n",
              "      <th>Company</th>\n",
              "      <th>Product</th>\n",
              "      <th>TypeName</th>\n",
              "      <th>Inches</th>\n",
              "      <th>ScreenResolution</th>\n",
              "      <th>Cpu</th>\n",
              "      <th>Ram</th>\n",
              "      <th>Memory</th>\n",
              "      <th>Gpu</th>\n",
              "      <th>OpSys</th>\n",
              "      <th>Weight</th>\n",
              "      <th>Price_euros</th>\n",
              "    </tr>\n",
              "  </thead>\n",
              "  <tbody>\n",
              "    <tr>\n",
              "      <th>0</th>\n",
              "      <td>1</td>\n",
              "      <td>Apple</td>\n",
              "      <td>MacBook Pro</td>\n",
              "      <td>Ultrabook</td>\n",
              "      <td>13.3</td>\n",
              "      <td>IPS Panel Retina Display 2560x1600</td>\n",
              "      <td>Intel Core i5 2.3GHz</td>\n",
              "      <td>8GB</td>\n",
              "      <td>128GB SSD</td>\n",
              "      <td>Intel Iris Plus Graphics 640</td>\n",
              "      <td>macOS</td>\n",
              "      <td>1.37kg</td>\n",
              "      <td>1339.69</td>\n",
              "    </tr>\n",
              "    <tr>\n",
              "      <th>1</th>\n",
              "      <td>2</td>\n",
              "      <td>Apple</td>\n",
              "      <td>Macbook Air</td>\n",
              "      <td>Ultrabook</td>\n",
              "      <td>13.3</td>\n",
              "      <td>1440x900</td>\n",
              "      <td>Intel Core i5 1.8GHz</td>\n",
              "      <td>8GB</td>\n",
              "      <td>128GB Flash Storage</td>\n",
              "      <td>Intel HD Graphics 6000</td>\n",
              "      <td>macOS</td>\n",
              "      <td>1.34kg</td>\n",
              "      <td>898.94</td>\n",
              "    </tr>\n",
              "    <tr>\n",
              "      <th>2</th>\n",
              "      <td>3</td>\n",
              "      <td>HP</td>\n",
              "      <td>250 G6</td>\n",
              "      <td>Notebook</td>\n",
              "      <td>15.6</td>\n",
              "      <td>Full HD 1920x1080</td>\n",
              "      <td>Intel Core i5 7200U 2.5GHz</td>\n",
              "      <td>8GB</td>\n",
              "      <td>256GB SSD</td>\n",
              "      <td>Intel HD Graphics 620</td>\n",
              "      <td>No OS</td>\n",
              "      <td>1.86kg</td>\n",
              "      <td>575.00</td>\n",
              "    </tr>\n",
              "    <tr>\n",
              "      <th>3</th>\n",
              "      <td>4</td>\n",
              "      <td>Apple</td>\n",
              "      <td>MacBook Pro</td>\n",
              "      <td>Ultrabook</td>\n",
              "      <td>15.4</td>\n",
              "      <td>IPS Panel Retina Display 2880x1800</td>\n",
              "      <td>Intel Core i7 2.7GHz</td>\n",
              "      <td>16GB</td>\n",
              "      <td>512GB SSD</td>\n",
              "      <td>AMD Radeon Pro 455</td>\n",
              "      <td>macOS</td>\n",
              "      <td>1.83kg</td>\n",
              "      <td>2537.45</td>\n",
              "    </tr>\n",
              "    <tr>\n",
              "      <th>4</th>\n",
              "      <td>5</td>\n",
              "      <td>Apple</td>\n",
              "      <td>MacBook Pro</td>\n",
              "      <td>Ultrabook</td>\n",
              "      <td>13.3</td>\n",
              "      <td>IPS Panel Retina Display 2560x1600</td>\n",
              "      <td>Intel Core i5 3.1GHz</td>\n",
              "      <td>8GB</td>\n",
              "      <td>256GB SSD</td>\n",
              "      <td>Intel Iris Plus Graphics 650</td>\n",
              "      <td>macOS</td>\n",
              "      <td>1.37kg</td>\n",
              "      <td>1803.60</td>\n",
              "    </tr>\n",
              "  </tbody>\n",
              "</table>\n",
              "</div>"
            ],
            "text/plain": [
              "   laptop_ID Company      Product  ...  OpSys  Weight Price_euros\n",
              "0          1   Apple  MacBook Pro  ...  macOS  1.37kg     1339.69\n",
              "1          2   Apple  Macbook Air  ...  macOS  1.34kg      898.94\n",
              "2          3      HP       250 G6  ...  No OS  1.86kg      575.00\n",
              "3          4   Apple  MacBook Pro  ...  macOS  1.83kg     2537.45\n",
              "4          5   Apple  MacBook Pro  ...  macOS  1.37kg     1803.60\n",
              "\n",
              "[5 rows x 13 columns]"
            ]
          },
          "metadata": {},
          "execution_count": 3
        }
      ]
    },
    {
      "cell_type": "code",
      "metadata": {
        "colab": {
          "base_uri": "https://localhost:8080/",
          "height": 17
        },
        "id": "OpVbGI2zNN7G",
        "outputId": "0ffda122-4760-41f2-8125-75bac5bd54d9"
      },
      "source": [
        "from pandas import plotting\n",
        "import matplotlib.pyplot as plt\n",
        "import seaborn as sns\n",
        "plt.style.use('fivethirtyeight')\n",
        "\n",
        "# for interactive visualizations\n",
        "import plotly.offline as py\n",
        "from plotly.offline import init_notebook_mode, iplot\n",
        "import plotly.graph_objs as go\n",
        "from plotly import tools\n",
        "init_notebook_mode(connected = True)\n",
        "import plotly.figure_factory as ff\n",
        "\n",
        "# for path\n",
        "import os\n"
      ],
      "execution_count": null,
      "outputs": [
        {
          "output_type": "display_data",
          "data": {
            "text/html": [
              "        <script type=\"text/javascript\">\n",
              "        window.PlotlyConfig = {MathJaxConfig: 'local'};\n",
              "        if (window.MathJax) {MathJax.Hub.Config({SVG: {font: \"STIX-Web\"}});}\n",
              "        if (typeof require !== 'undefined') {\n",
              "        require.undef(\"plotly\");\n",
              "        requirejs.config({\n",
              "            paths: {\n",
              "                'plotly': ['https://cdn.plot.ly/plotly-latest.min']\n",
              "            }\n",
              "        });\n",
              "        require(['plotly'], function(Plotly) {\n",
              "            window._Plotly = Plotly;\n",
              "        });\n",
              "        }\n",
              "        </script>\n",
              "        "
            ]
          },
          "metadata": {}
        }
      ]
    },
    {
      "cell_type": "markdown",
      "metadata": {
        "id": "3SX3mwsYOKjV"
      },
      "source": [
        "#Information about all the collumns in the Dataset"
      ]
    },
    {
      "cell_type": "code",
      "metadata": {
        "colab": {
          "base_uri": "https://localhost:8080/"
        },
        "id": "-TdJb5qNNOCl",
        "outputId": "35500440-255f-499b-8a27-7e3bf44f0063"
      },
      "source": [
        "df2.info()"
      ],
      "execution_count": null,
      "outputs": [
        {
          "output_type": "stream",
          "name": "stdout",
          "text": [
            "<class 'pandas.core.frame.DataFrame'>\n",
            "RangeIndex: 1303 entries, 0 to 1302\n",
            "Data columns (total 13 columns):\n",
            " #   Column            Non-Null Count  Dtype  \n",
            "---  ------            --------------  -----  \n",
            " 0   laptop_ID         1303 non-null   int64  \n",
            " 1   Company           1303 non-null   object \n",
            " 2   Product           1303 non-null   object \n",
            " 3   TypeName          1303 non-null   object \n",
            " 4   Inches            1303 non-null   float64\n",
            " 5   ScreenResolution  1303 non-null   object \n",
            " 6   Cpu               1303 non-null   object \n",
            " 7   Ram               1303 non-null   object \n",
            " 8   Memory            1303 non-null   object \n",
            " 9   Gpu               1303 non-null   object \n",
            " 10  OpSys             1303 non-null   object \n",
            " 11  Weight            1303 non-null   object \n",
            " 12  Price_euros       1303 non-null   float64\n",
            "dtypes: float64(2), int64(1), object(10)\n",
            "memory usage: 132.5+ KB\n"
          ]
        }
      ]
    },
    {
      "cell_type": "markdown",
      "metadata": {
        "id": "ap19IES1yqsZ"
      },
      "source": [
        "Here No Null Values are there in this data set."
      ]
    },
    {
      "cell_type": "markdown",
      "metadata": {
        "id": "hYF_c6xQOQZa"
      },
      "source": [
        "#Description of Data"
      ]
    },
    {
      "cell_type": "code",
      "metadata": {
        "colab": {
          "base_uri": "https://localhost:8080/",
          "height": 295
        },
        "id": "s1s9jsRGNOG_",
        "outputId": "d0f5bb5e-e823-413c-b3bf-70446124b0a2"
      },
      "source": [
        "df2.describe()"
      ],
      "execution_count": null,
      "outputs": [
        {
          "output_type": "execute_result",
          "data": {
            "text/html": [
              "<div>\n",
              "<style scoped>\n",
              "    .dataframe tbody tr th:only-of-type {\n",
              "        vertical-align: middle;\n",
              "    }\n",
              "\n",
              "    .dataframe tbody tr th {\n",
              "        vertical-align: top;\n",
              "    }\n",
              "\n",
              "    .dataframe thead th {\n",
              "        text-align: right;\n",
              "    }\n",
              "</style>\n",
              "<table border=\"1\" class=\"dataframe\">\n",
              "  <thead>\n",
              "    <tr style=\"text-align: right;\">\n",
              "      <th></th>\n",
              "      <th>laptop_ID</th>\n",
              "      <th>Inches</th>\n",
              "      <th>Price_euros</th>\n",
              "    </tr>\n",
              "  </thead>\n",
              "  <tbody>\n",
              "    <tr>\n",
              "      <th>count</th>\n",
              "      <td>1303.000000</td>\n",
              "      <td>1303.000000</td>\n",
              "      <td>1303.000000</td>\n",
              "    </tr>\n",
              "    <tr>\n",
              "      <th>mean</th>\n",
              "      <td>660.155794</td>\n",
              "      <td>15.017191</td>\n",
              "      <td>1123.686992</td>\n",
              "    </tr>\n",
              "    <tr>\n",
              "      <th>std</th>\n",
              "      <td>381.172104</td>\n",
              "      <td>1.426304</td>\n",
              "      <td>699.009043</td>\n",
              "    </tr>\n",
              "    <tr>\n",
              "      <th>min</th>\n",
              "      <td>1.000000</td>\n",
              "      <td>10.100000</td>\n",
              "      <td>174.000000</td>\n",
              "    </tr>\n",
              "    <tr>\n",
              "      <th>25%</th>\n",
              "      <td>331.500000</td>\n",
              "      <td>14.000000</td>\n",
              "      <td>599.000000</td>\n",
              "    </tr>\n",
              "    <tr>\n",
              "      <th>50%</th>\n",
              "      <td>659.000000</td>\n",
              "      <td>15.600000</td>\n",
              "      <td>977.000000</td>\n",
              "    </tr>\n",
              "    <tr>\n",
              "      <th>75%</th>\n",
              "      <td>990.500000</td>\n",
              "      <td>15.600000</td>\n",
              "      <td>1487.880000</td>\n",
              "    </tr>\n",
              "    <tr>\n",
              "      <th>max</th>\n",
              "      <td>1320.000000</td>\n",
              "      <td>18.400000</td>\n",
              "      <td>6099.000000</td>\n",
              "    </tr>\n",
              "  </tbody>\n",
              "</table>\n",
              "</div>"
            ],
            "text/plain": [
              "         laptop_ID       Inches  Price_euros\n",
              "count  1303.000000  1303.000000  1303.000000\n",
              "mean    660.155794    15.017191  1123.686992\n",
              "std     381.172104     1.426304   699.009043\n",
              "min       1.000000    10.100000   174.000000\n",
              "25%     331.500000    14.000000   599.000000\n",
              "50%     659.000000    15.600000   977.000000\n",
              "75%     990.500000    15.600000  1487.880000\n",
              "max    1320.000000    18.400000  6099.000000"
            ]
          },
          "metadata": {},
          "execution_count": 6
        }
      ]
    },
    {
      "cell_type": "markdown",
      "metadata": {
        "id": "sS6RfKSWOqid"
      },
      "source": [
        "#Corelation between Data"
      ]
    },
    {
      "cell_type": "code",
      "metadata": {
        "colab": {
          "base_uri": "https://localhost:8080/",
          "height": 142
        },
        "id": "Nve0Wys-NOJr",
        "outputId": "345f7153-e0af-4fca-fb4f-70e1906e1298"
      },
      "source": [
        "df2.corr()"
      ],
      "execution_count": null,
      "outputs": [
        {
          "output_type": "execute_result",
          "data": {
            "text/html": [
              "<div>\n",
              "<style scoped>\n",
              "    .dataframe tbody tr th:only-of-type {\n",
              "        vertical-align: middle;\n",
              "    }\n",
              "\n",
              "    .dataframe tbody tr th {\n",
              "        vertical-align: top;\n",
              "    }\n",
              "\n",
              "    .dataframe thead th {\n",
              "        text-align: right;\n",
              "    }\n",
              "</style>\n",
              "<table border=\"1\" class=\"dataframe\">\n",
              "  <thead>\n",
              "    <tr style=\"text-align: right;\">\n",
              "      <th></th>\n",
              "      <th>laptop_ID</th>\n",
              "      <th>Inches</th>\n",
              "      <th>Price_euros</th>\n",
              "    </tr>\n",
              "  </thead>\n",
              "  <tbody>\n",
              "    <tr>\n",
              "      <th>laptop_ID</th>\n",
              "      <td>1.000000</td>\n",
              "      <td>-0.087796</td>\n",
              "      <td>0.067830</td>\n",
              "    </tr>\n",
              "    <tr>\n",
              "      <th>Inches</th>\n",
              "      <td>-0.087796</td>\n",
              "      <td>1.000000</td>\n",
              "      <td>0.068197</td>\n",
              "    </tr>\n",
              "    <tr>\n",
              "      <th>Price_euros</th>\n",
              "      <td>0.067830</td>\n",
              "      <td>0.068197</td>\n",
              "      <td>1.000000</td>\n",
              "    </tr>\n",
              "  </tbody>\n",
              "</table>\n",
              "</div>"
            ],
            "text/plain": [
              "             laptop_ID    Inches  Price_euros\n",
              "laptop_ID     1.000000 -0.087796     0.067830\n",
              "Inches       -0.087796  1.000000     0.068197\n",
              "Price_euros   0.067830  0.068197     1.000000"
            ]
          },
          "metadata": {},
          "execution_count": 7
        }
      ]
    },
    {
      "cell_type": "markdown",
      "metadata": {
        "id": "GpAW3GvyOvbg"
      },
      "source": [
        "#Shape of the Dataset"
      ]
    },
    {
      "cell_type": "code",
      "metadata": {
        "colab": {
          "base_uri": "https://localhost:8080/"
        },
        "id": "bT2gAEHSOnSV",
        "outputId": "7edb9dd1-53e3-4523-f078-14292b43f600"
      },
      "source": [
        "df2.shape"
      ],
      "execution_count": null,
      "outputs": [
        {
          "output_type": "execute_result",
          "data": {
            "text/plain": [
              "(1303, 13)"
            ]
          },
          "metadata": {},
          "execution_count": 8
        }
      ]
    },
    {
      "cell_type": "markdown",
      "metadata": {
        "id": "Ap9gphlsPJcr"
      },
      "source": [
        "#Heatmap of the Dataset"
      ]
    },
    {
      "cell_type": "code",
      "metadata": {
        "colab": {
          "base_uri": "https://localhost:8080/",
          "height": 654
        },
        "id": "iHdcxZ90O7qq",
        "outputId": "833ac850-9712-45a6-8f3c-6c644d9c9395"
      },
      "source": [
        "plt.figure(figsize=(16,10))\n",
        "sns.heatmap(df2.corr(), annot=True,cmap ='RdYlGn')"
      ],
      "execution_count": null,
      "outputs": [
        {
          "output_type": "execute_result",
          "data": {
            "text/plain": [
              "<matplotlib.axes._subplots.AxesSubplot at 0x7f0cfc35f310>"
            ]
          },
          "metadata": {},
          "execution_count": 9
        },
        {
          "output_type": "display_data",
          "data": {
            "image/png": "[encoded data removed]",
            "text/plain": [
              "<Figure size 1152x720 with 2 Axes>"
            ]
          },
          "metadata": {}
        }
      ]
    },
    {
      "cell_type": "markdown",
      "metadata": {
        "id": "OqsN78hNfh7I"
      },
      "source": [
        "#Data Prediction\n",
        "<br><br>\n",
        "#Linear Regression \n",
        "Linear Regression is a machine learning algorithm based on supervised learning. It performs a regression task. Regression models a target prediction value based on independent variables. It is mostly used for finding out the relationship between variables and forecasting. Different regression models differ based on – the kind of relationship between dependent and independent variables, they are considering and the number of independent variables being used.\n",
        "\n",
        "Linear regression performs the task to predict a dependent variable value (y) based on a given independent variable (x). So, this regression technique finds out a linear relationship between x (input) and y(output). Hence, the name is Linear Regression.\n",
        "y=ax+c\n",
        "\n"
      ]
    },
    {
      "cell_type": "code",
      "metadata": {
        "id": "t6k9Mw5fcz-q"
      },
      "source": [
        "import io\n",
        "#df2 = pd.read_csv('laptop_price.csv')\n",
        "df=pd.read_csv('laptop_price.csv',encoding='latin-1')"
      ],
      "execution_count": null,
      "outputs": []
    },
    {
      "cell_type": "code",
      "metadata": {
        "colab": {
          "base_uri": "https://localhost:8080/",
          "height": 417
        },
        "id": "8fvvCJWqO7yI",
        "outputId": "5ce7dc79-9957-4c47-9fbf-320dfc999ed0"
      },
      "source": [
        "df.drop(['Cpu','Weight','laptop_ID','OpSys','Inches','ScreenResolution','Memory','Gpu'],inplace=True,axis=1)\n",
        "df"
      ],
      "execution_count": null,
      "outputs": [
        {
          "output_type": "execute_result",
          "data": {
            "text/html": [
              "<div>\n",
              "<style scoped>\n",
              "    .dataframe tbody tr th:only-of-type {\n",
              "        vertical-align: middle;\n",
              "    }\n",
              "\n",
              "    .dataframe tbody tr th {\n",
              "        vertical-align: top;\n",
              "    }\n",
              "\n",
              "    .dataframe thead th {\n",
              "        text-align: right;\n",
              "    }\n",
              "</style>\n",
              "<table border=\"1\" class=\"dataframe\">\n",
              "  <thead>\n",
              "    <tr style=\"text-align: right;\">\n",
              "      <th></th>\n",
              "      <th>Company</th>\n",
              "      <th>Product</th>\n",
              "      <th>TypeName</th>\n",
              "      <th>Ram</th>\n",
              "      <th>Price_euros</th>\n",
              "    </tr>\n",
              "  </thead>\n",
              "  <tbody>\n",
              "    <tr>\n",
              "      <th>0</th>\n",
              "      <td>Apple</td>\n",
              "      <td>MacBook Pro</td>\n",
              "      <td>Ultrabook</td>\n",
              "      <td>8GB</td>\n",
              "      <td>1339.69</td>\n",
              "    </tr>\n",
              "    <tr>\n",
              "      <th>1</th>\n",
              "      <td>Apple</td>\n",
              "      <td>Macbook Air</td>\n",
              "      <td>Ultrabook</td>\n",
              "      <td>8GB</td>\n",
              "      <td>898.94</td>\n",
              "    </tr>\n",
              "    <tr>\n",
              "      <th>2</th>\n",
              "      <td>HP</td>\n",
              "      <td>250 G6</td>\n",
              "      <td>Notebook</td>\n",
              "      <td>8GB</td>\n",
              "      <td>575.00</td>\n",
              "    </tr>\n",
              "    <tr>\n",
              "      <th>3</th>\n",
              "      <td>Apple</td>\n",
              "      <td>MacBook Pro</td>\n",
              "      <td>Ultrabook</td>\n",
              "      <td>16GB</td>\n",
              "      <td>2537.45</td>\n",
              "    </tr>\n",
              "    <tr>\n",
              "      <th>4</th>\n",
              "      <td>Apple</td>\n",
              "      <td>MacBook Pro</td>\n",
              "      <td>Ultrabook</td>\n",
              "      <td>8GB</td>\n",
              "      <td>1803.60</td>\n",
              "    </tr>\n",
              "    <tr>\n",
              "      <th>...</th>\n",
              "      <td>...</td>\n",
              "      <td>...</td>\n",
              "      <td>...</td>\n",
              "      <td>...</td>\n",
              "      <td>...</td>\n",
              "    </tr>\n",
              "    <tr>\n",
              "      <th>1298</th>\n",
              "      <td>Lenovo</td>\n",
              "      <td>Yoga 500-14ISK</td>\n",
              "      <td>2 in 1 Convertible</td>\n",
              "      <td>4GB</td>\n",
              "      <td>638.00</td>\n",
              "    </tr>\n",
              "    <tr>\n",
              "      <th>1299</th>\n",
              "      <td>Lenovo</td>\n",
              "      <td>Yoga 900-13ISK</td>\n",
              "      <td>2 in 1 Convertible</td>\n",
              "      <td>16GB</td>\n",
              "      <td>1499.00</td>\n",
              "    </tr>\n",
              "    <tr>\n",
              "      <th>1300</th>\n",
              "      <td>Lenovo</td>\n",
              "      <td>IdeaPad 100S-14IBR</td>\n",
              "      <td>Notebook</td>\n",
              "      <td>2GB</td>\n",
              "      <td>229.00</td>\n",
              "    </tr>\n",
              "    <tr>\n",
              "      <th>1301</th>\n",
              "      <td>HP</td>\n",
              "      <td>15-AC110nv (i7-6500U/6GB/1TB/Radeon</td>\n",
              "      <td>Notebook</td>\n",
              "      <td>6GB</td>\n",
              "      <td>764.00</td>\n",
              "    </tr>\n",
              "    <tr>\n",
              "      <th>1302</th>\n",
              "      <td>Asus</td>\n",
              "      <td>X553SA-XX031T (N3050/4GB/500GB/W10)</td>\n",
              "      <td>Notebook</td>\n",
              "      <td>4GB</td>\n",
              "      <td>369.00</td>\n",
              "    </tr>\n",
              "  </tbody>\n",
              "</table>\n",
              "<p>1303 rows × 5 columns</p>\n",
              "</div>"
            ],
            "text/plain": [
              "     Company                              Product  ...   Ram Price_euros\n",
              "0      Apple                          MacBook Pro  ...   8GB     1339.69\n",
              "1      Apple                          Macbook Air  ...   8GB      898.94\n",
              "2         HP                               250 G6  ...   8GB      575.00\n",
              "3      Apple                          MacBook Pro  ...  16GB     2537.45\n",
              "4      Apple                          MacBook Pro  ...   8GB     1803.60\n",
              "...      ...                                  ...  ...   ...         ...\n",
              "1298  Lenovo                       Yoga 500-14ISK  ...   4GB      638.00\n",
              "1299  Lenovo                       Yoga 900-13ISK  ...  16GB     1499.00\n",
              "1300  Lenovo                   IdeaPad 100S-14IBR  ...   2GB      229.00\n",
              "1301      HP  15-AC110nv (i7-6500U/6GB/1TB/Radeon  ...   6GB      764.00\n",
              "1302    Asus  X553SA-XX031T (N3050/4GB/500GB/W10)  ...   4GB      369.00\n",
              "\n",
              "[1303 rows x 5 columns]"
            ]
          },
          "metadata": {},
          "execution_count": 11
        }
      ]
    },
    {
      "cell_type": "markdown",
      "metadata": {
        "id": "rkAOQz1h1gRa"
      },
      "source": [
        "Here we have to delete some entities from the dataset for obtaining the better result."
      ]
    },
    {
      "cell_type": "markdown",
      "metadata": {
        "id": "_ps4Y4BQ154V"
      },
      "source": [
        "#Importing the modules from sklearn"
      ]
    },
    {
      "cell_type": "code",
      "metadata": {
        "id": "gDutOm6Udjz0"
      },
      "source": [
        "import re\n",
        "import pandas as pd\n",
        "import seaborn as sns\n",
        "import numpy as np\n",
        "import matplotlib.pyplot as plt\n",
        "%matplotlib inline\n",
        "from sklearn.ensemble import AdaBoostRegressor,RandomForestRegressor,VotingRegressor\n",
        "from sklearn.linear_model import SGDRegressor,LinearRegression\n",
        "from sklearn.metrics import mean_absolute_error,mean_squared_error,r2_score\n",
        "from sklearn.model_selection import train_test_split\n",
        "from sklearn.neighbors import KNeighborsRegressor\n",
        "from sklearn.preprocessing import LabelEncoder\n",
        "from sklearn.tree import DecisionTreeRegressor\n",
        "from xgboost import XGBRegressor"
      ],
      "execution_count": null,
      "outputs": []
    },
    {
      "cell_type": "markdown",
      "metadata": {
        "id": "SYXuHDz6dww9"
      },
      "source": [
        "#Label Encoder"
      ]
    },
    {
      "cell_type": "markdown",
      "metadata": {
        "id": "cQm2Bmx12UUW"
      },
      "source": [
        "Label Encoding refers to converting the labels into a numeric form so as to convert them into the machine-readable form. Machine learning algorithms can then decide in a better way how those labels must be operated. It is an important pre-processing step for the structured dataset in supervised learning."
      ]
    },
    {
      "cell_type": "code",
      "metadata": {
        "colab": {
          "base_uri": "https://localhost:8080/",
          "height": 417
        },
        "id": "_jaqNBqeO75c",
        "outputId": "2c7e7a2a-bd95-46aa-b9a6-95f4ce9ffb5c"
      },
      "source": [
        "le={}\n",
        "for col in set(df.columns).difference({'Price_euros'}):\n",
        "    le[col] = LabelEncoder()\n",
        "    df[col]  = le[col].fit_transform(df[col])\n",
        "df"
      ],
      "execution_count": null,
      "outputs": [
        {
          "output_type": "execute_result",
          "data": {
            "text/html": [
              "<div>\n",
              "<style scoped>\n",
              "    .dataframe tbody tr th:only-of-type {\n",
              "        vertical-align: middle;\n",
              "    }\n",
              "\n",
              "    .dataframe tbody tr th {\n",
              "        vertical-align: top;\n",
              "    }\n",
              "\n",
              "    .dataframe thead th {\n",
              "        text-align: right;\n",
              "    }\n",
              "</style>\n",
              "<table border=\"1\" class=\"dataframe\">\n",
              "  <thead>\n",
              "    <tr style=\"text-align: right;\">\n",
              "      <th></th>\n",
              "      <th>Company</th>\n",
              "      <th>Product</th>\n",
              "      <th>TypeName</th>\n",
              "      <th>Ram</th>\n",
              "      <th>Price_euros</th>\n",
              "    </tr>\n",
              "  </thead>\n",
              "  <tbody>\n",
              "    <tr>\n",
              "      <th>0</th>\n",
              "      <td>1</td>\n",
              "      <td>300</td>\n",
              "      <td>4</td>\n",
              "      <td>8</td>\n",
              "      <td>1339.69</td>\n",
              "    </tr>\n",
              "    <tr>\n",
              "      <th>1</th>\n",
              "      <td>1</td>\n",
              "      <td>301</td>\n",
              "      <td>4</td>\n",
              "      <td>8</td>\n",
              "      <td>898.94</td>\n",
              "    </tr>\n",
              "    <tr>\n",
              "      <th>2</th>\n",
              "      <td>7</td>\n",
              "      <td>50</td>\n",
              "      <td>3</td>\n",
              "      <td>8</td>\n",
              "      <td>575.00</td>\n",
              "    </tr>\n",
              "    <tr>\n",
              "      <th>3</th>\n",
              "      <td>1</td>\n",
              "      <td>300</td>\n",
              "      <td>4</td>\n",
              "      <td>1</td>\n",
              "      <td>2537.45</td>\n",
              "    </tr>\n",
              "    <tr>\n",
              "      <th>4</th>\n",
              "      <td>1</td>\n",
              "      <td>300</td>\n",
              "      <td>4</td>\n",
              "      <td>8</td>\n",
              "      <td>1803.60</td>\n",
              "    </tr>\n",
              "    <tr>\n",
              "      <th>...</th>\n",
              "      <td>...</td>\n",
              "      <td>...</td>\n",
              "      <td>...</td>\n",
              "      <td>...</td>\n",
              "      <td>...</td>\n",
              "    </tr>\n",
              "    <tr>\n",
              "      <th>1298</th>\n",
              "      <td>10</td>\n",
              "      <td>580</td>\n",
              "      <td>0</td>\n",
              "      <td>5</td>\n",
              "      <td>638.00</td>\n",
              "    </tr>\n",
              "    <tr>\n",
              "      <th>1299</th>\n",
              "      <td>10</td>\n",
              "      <td>588</td>\n",
              "      <td>0</td>\n",
              "      <td>1</td>\n",
              "      <td>1499.00</td>\n",
              "    </tr>\n",
              "    <tr>\n",
              "      <th>1300</th>\n",
              "      <td>10</td>\n",
              "      <td>196</td>\n",
              "      <td>3</td>\n",
              "      <td>3</td>\n",
              "      <td>229.00</td>\n",
              "    </tr>\n",
              "    <tr>\n",
              "      <th>1301</th>\n",
              "      <td>7</td>\n",
              "      <td>2</td>\n",
              "      <td>3</td>\n",
              "      <td>7</td>\n",
              "      <td>764.00</td>\n",
              "    </tr>\n",
              "    <tr>\n",
              "      <th>1302</th>\n",
              "      <td>2</td>\n",
              "      <td>568</td>\n",
              "      <td>3</td>\n",
              "      <td>5</td>\n",
              "      <td>369.00</td>\n",
              "    </tr>\n",
              "  </tbody>\n",
              "</table>\n",
              "<p>1303 rows × 5 columns</p>\n",
              "</div>"
            ],
            "text/plain": [
              "      Company  Product  TypeName  Ram  Price_euros\n",
              "0           1      300         4    8      1339.69\n",
              "1           1      301         4    8       898.94\n",
              "2           7       50         3    8       575.00\n",
              "3           1      300         4    1      2537.45\n",
              "4           1      300         4    8      1803.60\n",
              "...       ...      ...       ...  ...          ...\n",
              "1298       10      580         0    5       638.00\n",
              "1299       10      588         0    1      1499.00\n",
              "1300       10      196         3    3       229.00\n",
              "1301        7        2         3    7       764.00\n",
              "1302        2      568         3    5       369.00\n",
              "\n",
              "[1303 rows x 5 columns]"
            ]
          },
          "metadata": {},
          "execution_count": 13
        }
      ]
    },
    {
      "cell_type": "markdown",
      "metadata": {
        "id": "gfD6j_5VeFnn"
      },
      "source": [
        "#Feature Scaling\n",
        "Feature scaling is a method used to normalize the range of independent variables or features of data. In data processing, it is also known as data normalization and is generally performed during the data preprocessing step."
      ]
    },
    {
      "cell_type": "code",
      "metadata": {
        "colab": {
          "base_uri": "https://localhost:8080/",
          "height": 417
        },
        "id": "vkzPxEVBO8AH",
        "outputId": "74a48910-e6b2-4a94-f3dc-0e41f503f09c"
      },
      "source": [
        "def normalize_col(col_name):\n",
        "    return (df[col_name] - df[col_name].min())/(df[col_name].max()-df[col_name].min())\n",
        "\n",
        "for col in ['Product','Price_euros']:\n",
        "    df[col]=normalize_col(col) \n",
        "df"
      ],
      "execution_count": null,
      "outputs": [
        {
          "output_type": "execute_result",
          "data": {
            "text/html": [
              "<div>\n",
              "<style scoped>\n",
              "    .dataframe tbody tr th:only-of-type {\n",
              "        vertical-align: middle;\n",
              "    }\n",
              "\n",
              "    .dataframe tbody tr th {\n",
              "        vertical-align: top;\n",
              "    }\n",
              "\n",
              "    .dataframe thead th {\n",
              "        text-align: right;\n",
              "    }\n",
              "</style>\n",
              "<table border=\"1\" class=\"dataframe\">\n",
              "  <thead>\n",
              "    <tr style=\"text-align: right;\">\n",
              "      <th></th>\n",
              "      <th>Company</th>\n",
              "      <th>Product</th>\n",
              "      <th>TypeName</th>\n",
              "      <th>Ram</th>\n",
              "      <th>Price_euros</th>\n",
              "    </tr>\n",
              "  </thead>\n",
              "  <tbody>\n",
              "    <tr>\n",
              "      <th>0</th>\n",
              "      <td>1</td>\n",
              "      <td>0.486224</td>\n",
              "      <td>4</td>\n",
              "      <td>8</td>\n",
              "      <td>0.196741</td>\n",
              "    </tr>\n",
              "    <tr>\n",
              "      <th>1</th>\n",
              "      <td>1</td>\n",
              "      <td>0.487844</td>\n",
              "      <td>4</td>\n",
              "      <td>8</td>\n",
              "      <td>0.122353</td>\n",
              "    </tr>\n",
              "    <tr>\n",
              "      <th>2</th>\n",
              "      <td>7</td>\n",
              "      <td>0.081037</td>\n",
              "      <td>3</td>\n",
              "      <td>8</td>\n",
              "      <td>0.067679</td>\n",
              "    </tr>\n",
              "    <tr>\n",
              "      <th>3</th>\n",
              "      <td>1</td>\n",
              "      <td>0.486224</td>\n",
              "      <td>4</td>\n",
              "      <td>1</td>\n",
              "      <td>0.398895</td>\n",
              "    </tr>\n",
              "    <tr>\n",
              "      <th>4</th>\n",
              "      <td>1</td>\n",
              "      <td>0.486224</td>\n",
              "      <td>4</td>\n",
              "      <td>8</td>\n",
              "      <td>0.275038</td>\n",
              "    </tr>\n",
              "    <tr>\n",
              "      <th>...</th>\n",
              "      <td>...</td>\n",
              "      <td>...</td>\n",
              "      <td>...</td>\n",
              "      <td>...</td>\n",
              "      <td>...</td>\n",
              "    </tr>\n",
              "    <tr>\n",
              "      <th>1298</th>\n",
              "      <td>10</td>\n",
              "      <td>0.940032</td>\n",
              "      <td>0</td>\n",
              "      <td>5</td>\n",
              "      <td>0.078312</td>\n",
              "    </tr>\n",
              "    <tr>\n",
              "      <th>1299</th>\n",
              "      <td>10</td>\n",
              "      <td>0.952998</td>\n",
              "      <td>0</td>\n",
              "      <td>1</td>\n",
              "      <td>0.223629</td>\n",
              "    </tr>\n",
              "    <tr>\n",
              "      <th>1300</th>\n",
              "      <td>10</td>\n",
              "      <td>0.317666</td>\n",
              "      <td>3</td>\n",
              "      <td>3</td>\n",
              "      <td>0.009283</td>\n",
              "    </tr>\n",
              "    <tr>\n",
              "      <th>1301</th>\n",
              "      <td>7</td>\n",
              "      <td>0.003241</td>\n",
              "      <td>3</td>\n",
              "      <td>7</td>\n",
              "      <td>0.099578</td>\n",
              "    </tr>\n",
              "    <tr>\n",
              "      <th>1302</th>\n",
              "      <td>2</td>\n",
              "      <td>0.920583</td>\n",
              "      <td>3</td>\n",
              "      <td>5</td>\n",
              "      <td>0.032911</td>\n",
              "    </tr>\n",
              "  </tbody>\n",
              "</table>\n",
              "<p>1303 rows × 5 columns</p>\n",
              "</div>"
            ],
            "text/plain": [
              "      Company   Product  TypeName  Ram  Price_euros\n",
              "0           1  0.486224         4    8     0.196741\n",
              "1           1  0.487844         4    8     0.122353\n",
              "2           7  0.081037         3    8     0.067679\n",
              "3           1  0.486224         4    1     0.398895\n",
              "4           1  0.486224         4    8     0.275038\n",
              "...       ...       ...       ...  ...          ...\n",
              "1298       10  0.940032         0    5     0.078312\n",
              "1299       10  0.952998         0    1     0.223629\n",
              "1300       10  0.317666         3    3     0.009283\n",
              "1301        7  0.003241         3    7     0.099578\n",
              "1302        2  0.920583         3    5     0.032911\n",
              "\n",
              "[1303 rows x 5 columns]"
            ]
          },
          "metadata": {},
          "execution_count": 14
        }
      ]
    },
    {
      "cell_type": "markdown",
      "metadata": {
        "id": "dwqL-TdqgCMp"
      },
      "source": [
        "#Splitting into test and training set"
      ]
    },
    {
      "cell_type": "code",
      "metadata": {
        "id": "FV6JaS-CO8Ih"
      },
      "source": [
        "#x=df.drop('Price_euros',axis=1)\n",
        "#y=df.Price_euros\n",
        "x = df.iloc[:, -4:-3].values\n",
        "y = df.iloc[:, -1].values\n",
        "x_train,x_test,y_train,y_test=train_test_split(x,y,test_size=0.4,random_state=1)"
      ],
      "execution_count": null,
      "outputs": []
    },
    {
      "cell_type": "markdown",
      "metadata": {
        "id": "N-YOQZ6122FN"
      },
      "source": [
        "Here we split the data into training and testing set."
      ]
    },
    {
      "cell_type": "code",
      "metadata": {
        "colab": {
          "base_uri": "https://localhost:8080/"
        },
        "id": "M218ZU_-iFcG",
        "outputId": "2d76fa2c-c0b6-4d4e-f994-3677a2163b4a"
      },
      "source": [
        "x"
      ],
      "execution_count": null,
      "outputs": [
        {
          "output_type": "execute_result",
          "data": {
            "text/plain": [
              "array([[0.48622366],\n",
              "       [0.48784441],\n",
              "       [0.08103728],\n",
              "       ...,\n",
              "       [0.31766613],\n",
              "       [0.00324149],\n",
              "       [0.92058347]])"
            ]
          },
          "metadata": {},
          "execution_count": 16
        }
      ]
    },
    {
      "cell_type": "markdown",
      "metadata": {
        "id": "BuesqSlwgD06"
      },
      "source": [
        "#Training on Training Set using Simple Linear Regression"
      ]
    },
    {
      "cell_type": "code",
      "metadata": {
        "colab": {
          "base_uri": "https://localhost:8080/"
        },
        "id": "QRnDlhQFfCvR",
        "outputId": "50a9c7d0-15bd-4f2c-fb97-c565f3447493"
      },
      "source": [
        "from sklearn.linear_model import LinearRegression\n",
        "regressor = LinearRegression()\n",
        "regressor.fit(x_train, y_train)"
      ],
      "execution_count": null,
      "outputs": [
        {
          "output_type": "execute_result",
          "data": {
            "text/plain": [
              "LinearRegression(copy_X=True, fit_intercept=True, n_jobs=None, normalize=False)"
            ]
          },
          "metadata": {},
          "execution_count": 17
        }
      ]
    },
    {
      "cell_type": "markdown",
      "metadata": {
        "id": "c0YiLnc0fZeg"
      },
      "source": [
        "#Prediction on test set"
      ]
    },
    {
      "cell_type": "code",
      "metadata": {
        "colab": {
          "base_uri": "https://localhost:8080/"
        },
        "id": "AFSi8CE5fCzJ",
        "outputId": "d94e4ec2-3791-4dd6-a44f-34664e6263b3"
      },
      "source": [
        "y_pred = regressor.predict(x_test)\n",
        "y_pred"
      ],
      "execution_count": null,
      "outputs": [
        {
          "output_type": "execute_result",
          "data": {
            "text/plain": [
              "array([0.14467848, 0.18281771, 0.15784655, 0.16354736, 0.14997783,\n",
              "       0.16427   , 0.13849591, 0.15816772, 0.14042294, 0.17229931,\n",
              "       0.1432332 , 0.16418971, 0.17237961, 0.18073009, 0.15921153,\n",
              "       0.14524053, 0.16386854, 0.18265713, 0.16691967, 0.14339379,\n",
              "       0.15431365, 0.15367131, 0.18273742, 0.16820436, 0.16089769,\n",
              "       0.15471512, 0.17551104, 0.15134281, 0.15230633, 0.14074412,\n",
              "       0.13897767, 0.17446723, 0.17278107, 0.16748173, 0.16828466,\n",
              "       0.17109492, 0.15367131, 0.15134281, 0.15110193, 0.17334312,\n",
              "       0.18265713, 0.1514231 , 0.16346707, 0.15656186, 0.18073009,\n",
              "       0.13849591, 0.16162033, 0.18169361, 0.18137244, 0.18073009,\n",
              "       0.14732815, 0.15784655, 0.15929183, 0.1607371 , 0.16828466,\n",
              "       0.14724786, 0.1490946 , 0.15439395, 0.14516024, 0.16410942,\n",
              "       0.16651821, 0.16683938, 0.16675909, 0.16274443, 0.13970031,\n",
              "       0.16812407, 0.14034265, 0.1421091 , 0.13897767, 0.1817739 ,\n",
              "       0.15688303, 0.14580258, 0.15768597, 0.15993417, 0.14973695,\n",
              "       0.15744509, 0.16427   , 0.16346707, 0.14259086, 0.1478902 ,\n",
              "       0.13849591, 0.17085404, 0.16443059, 0.17791983, 0.15174427,\n",
              "       0.1526275 , 0.15720421, 0.18081039, 0.15206545, 0.13680975,\n",
              "       0.1584086 , 0.15126252, 0.16370795, 0.15238662, 0.16362766,\n",
              "       0.17414606, 0.15070046, 0.13905796, 0.13576594, 0.15511659,\n",
              "       0.18209508, 0.16812407, 0.16539411, 0.18073009, 0.17302195,\n",
              "       0.13889737, 0.14893402, 0.14058353, 0.17470811, 0.13777327,\n",
              "       0.18081039, 0.15359102, 0.15889036, 0.13592653, 0.16258385,\n",
              "       0.18032863, 0.18153302, 0.13849591, 0.15856919, 0.16748173,\n",
              "       0.17374459, 0.14347408, 0.16362766, 0.14636464, 0.16378824,\n",
              "       0.18209508, 0.15760567, 0.15527717, 0.18056951, 0.15423336,\n",
              "       0.18000745, 0.16603645, 0.15399248, 0.13897767, 0.159613  ,\n",
              "       0.17663514, 0.17278107, 0.16410942, 0.15359102, 0.18073009,\n",
              "       0.14347408, 0.15367131, 0.1515034 , 0.1515034 , 0.17342342,\n",
              "       0.18081039, 0.16410942, 0.13945943, 0.15712391, 0.15784655,\n",
              "       0.15929183, 0.15182457, 0.15431365, 0.15367131, 0.15078076,\n",
              "       0.14708727, 0.150299  , 0.15294867, 0.16362766, 0.13713093,\n",
              "       0.16346707, 0.168927  , 0.15664216, 0.17848188, 0.16539411,\n",
              "       0.17406576, 0.14162734, 0.15415307, 0.14901431, 0.14162734,\n",
              "       0.15704362, 0.16748173, 0.17390518, 0.16756202, 0.17237961,\n",
              "       0.17294166, 0.17687602, 0.1783213 , 0.15431365, 0.16346707,\n",
              "       0.1433135 , 0.15102164, 0.1537516 , 0.16410942, 0.15856919,\n",
              "       0.13953972, 0.15913124, 0.1701314 , 0.16997081, 0.15326984,\n",
              "       0.15053988, 0.15776626, 0.15254721, 0.14532082, 0.17856218,\n",
              "       0.17486869, 0.14339379, 0.17149638, 0.15551805, 0.14949607,\n",
              "       0.16539411, 0.15712391, 0.15102164, 0.15367131, 0.13962001,\n",
              "       0.18289801, 0.14058353, 0.18073009, 0.15053988, 0.16009476,\n",
              "       0.16860583, 0.16796349, 0.17237961, 0.14106529, 0.15856919,\n",
              "       0.14130617, 0.14339379, 0.16362766, 0.13536448, 0.16724085,\n",
              "       0.18225566, 0.1515034 , 0.15359102, 0.14813108, 0.13897767,\n",
              "       0.15118222, 0.16740143, 0.18394182, 0.18121185, 0.18265713,\n",
              "       0.14018206, 0.13897767, 0.13753239, 0.16804378, 0.13897767,\n",
              "       0.15720421, 0.15575893, 0.15503629, 0.14668581, 0.15447424,\n",
              "       0.18329947, 0.17936511, 0.17840159, 0.15086105, 0.13817474,\n",
              "       0.16836495, 0.15511659, 0.15431365, 0.14154705, 0.13929884,\n",
              "       0.17101462, 0.14917489, 0.18073009, 0.15407278, 0.13849591,\n",
              "       0.15367131, 0.17518987, 0.17213873, 0.13921855, 0.16643792,\n",
              "       0.15214574, 0.15736479, 0.17840159, 0.14347408, 0.16145974,\n",
              "       0.17398547, 0.14339379, 0.14965665, 0.14130617, 0.16499264,\n",
              "       0.16908759, 0.15471512, 0.13737181, 0.15559834, 0.16972993,\n",
              "       0.15487571, 0.17535045, 0.15519688, 0.15969329, 0.17414606,\n",
              "       0.17767895, 0.14933548, 0.15447424, 0.18073009, 0.15110193,\n",
              "       0.15455453, 0.15134281, 0.15583922, 0.13809444, 0.15800714,\n",
              "       0.16868612, 0.15439395, 0.16370795, 0.1712555 , 0.17671544,\n",
              "       0.14861284, 0.17992716, 0.14347408, 0.14162734, 0.15792684,\n",
              "       0.15519688, 0.15286838, 0.15254721, 0.14034265, 0.15479541,\n",
              "       0.14355438, 0.168927  , 0.14018206, 0.13697034, 0.17181756,\n",
              "       0.16531381, 0.15318955, 0.1818542 , 0.17840159, 0.16748173,\n",
              "       0.15784655, 0.13849591, 0.17382488, 0.16443059, 0.1537516 ,\n",
              "       0.15431365, 0.1584889 , 0.15519688, 0.16708026, 0.18129214,\n",
              "       0.13664917, 0.16386854, 0.15246691, 0.13568565, 0.15118222,\n",
              "       0.18225566, 0.17045257, 0.13849591, 0.18209508, 0.16242326,\n",
              "       0.15407278, 0.15078076, 0.15254721, 0.15367131, 0.14194851,\n",
              "       0.14716757, 0.14395584, 0.15190486, 0.14018206, 0.15367131,\n",
              "       0.16386854, 0.13456155, 0.14339379, 0.16571528, 0.16362766,\n",
              "       0.14363467, 0.1350433 , 0.16218238, 0.13889737, 0.17872276,\n",
              "       0.13849591, 0.1572845 , 0.17093433, 0.17615338, 0.17751837,\n",
              "       0.18217537, 0.14114558, 0.15102164, 0.15704362, 0.13528418,\n",
              "       0.18201478, 0.173584  , 0.168927  , 0.15688303, 0.15808743,\n",
              "       0.16852554, 0.13849591, 0.1736643 , 0.16451088, 0.13849591,\n",
              "       0.17406576, 0.15784655, 0.18081039, 0.15078076, 0.14435731,\n",
              "       0.15367131, 0.14427701, 0.14644493, 0.17237961, 0.15415307,\n",
              "       0.16354736, 0.15431365, 0.15567864, 0.17751837, 0.14363467,\n",
              "       0.13672946, 0.15784655, 0.1433135 , 0.16386854, 0.16724085,\n",
              "       0.13464184, 0.15503629, 0.13656887, 0.14700698, 0.16386854,\n",
              "       0.16121886, 0.15784655, 0.14483907, 0.15856919, 0.16017505,\n",
              "       0.17767895, 0.15640128, 0.15118222, 0.17543075, 0.18073009,\n",
              "       0.17254019, 0.13849591, 0.16378824, 0.15415307, 0.15688303,\n",
              "       0.15784655, 0.17262049, 0.14243027, 0.16394883, 0.15359102,\n",
              "       0.15367131, 0.15471512, 0.14387555, 0.15720421, 0.16362766,\n",
              "       0.16113857, 0.17197814, 0.15945241, 0.16491235, 0.16772261,\n",
              "       0.17326283, 0.17254019, 0.16049622, 0.18081039, 0.15367131,\n",
              "       0.14010177, 0.16298531, 0.17840159, 0.17872276, 0.18105126,\n",
              "       0.18217537, 0.16338678, 0.17960599, 0.15367131, 0.16049622,\n",
              "       0.18081039, 0.16812407, 0.15021871, 0.18169361, 0.18233595,\n",
              "       0.14507995, 0.13921855, 0.15503629, 0.18313889, 0.1713358 ,\n",
              "       0.16748173, 0.1759928 , 0.17647456, 0.15937212, 0.14772962,\n",
              "       0.16346707, 0.18346006, 0.17567163, 0.15856919, 0.13785356,\n",
              "       0.1818542 , 0.13552506, 0.15367131, 0.13560536, 0.15704362,\n",
              "       0.15391219, 0.15415307, 0.15704362, 0.18370094, 0.15431365,\n",
              "       0.14451789, 0.13913825, 0.13849591, 0.15543776, 0.17254019,\n",
              "       0.16362766, 0.17775925, 0.14178793, 0.15367131, 0.15094134,\n",
              "       0.15431365, 0.18032863, 0.15021871, 0.14885372, 0.1690073 ,\n",
              "       0.18145273, 0.16129916, 0.15776626, 0.15784655, 0.15431365,\n",
              "       0.14387555, 0.15431365, 0.14756903, 0.15511659, 0.16724085,\n",
              "       0.17229931, 0.17559133, 0.1584086 , 0.15784655, 0.13913825,\n",
              "       0.15254721, 0.15929183, 0.18073009, 0.15760567, 0.1514231 ,\n",
              "       0.14764933, 0.15985388, 0.17840159, 0.13849591, 0.17840159,\n",
              "       0.1747884 , 0.13841562, 0.16370795, 0.1385762 , 0.13913825,\n",
              "       0.14829167, 0.17856218])"
            ]
          },
          "metadata": {},
          "execution_count": 18
        }
      ]
    },
    {
      "cell_type": "markdown",
      "metadata": {
        "id": "8CKJviRVf6mk"
      },
      "source": [
        "#Visualizing the Training Set"
      ]
    },
    {
      "cell_type": "code",
      "metadata": {
        "colab": {
          "base_uri": "https://localhost:8080/",
          "height": 296
        },
        "id": "12ietDe4fC1s",
        "outputId": "57e86d2b-4518-4ecf-de3d-9c659cfe654b"
      },
      "source": [
        "plt.scatter(x_train, y_train, color = 'red')\n",
        "plt.plot(x_train, regressor.predict(x_train), color = 'blue')\n",
        "plt.title(\"Price vs Product Name of laptop\")\n",
        "plt.xlabel(\"Product Name\")\n",
        "plt.ylabel(\"Price\")\n",
        "plt.show()"
      ],
      "execution_count": null,
      "outputs": [
        {
          "output_type": "display_data",
          "data": {
            "image/png": "[encoded data removed]",
            "text/plain": [
              "<Figure size 432x288 with 1 Axes>"
            ]
          },
          "metadata": {
            "needs_background": "light"
          }
        }
      ]
    },
    {
      "cell_type": "markdown",
      "metadata": {
        "id": "xB9wmdIU3HeI"
      },
      "source": [
        "We can see that the datapoints are far away from the linear line. It proves that linear regression is not apt to fit with the datapoints.so now we have to look around another method for creating the best fit model."
      ]
    },
    {
      "cell_type": "markdown",
      "metadata": {
        "id": "08kmpQhZnuMZ"
      },
      "source": [
        "#Visualising Testing Set"
      ]
    },
    {
      "cell_type": "code",
      "metadata": {
        "colab": {
          "base_uri": "https://localhost:8080/",
          "height": 296
        },
        "id": "903JtWnAf2bB",
        "outputId": "f244dd71-9a4b-48fd-b6a9-bdc8cbee825d"
      },
      "source": [
        "plt.scatter(x_test, y_test, color = 'red')\n",
        "plt.plot(x_train, regressor.predict(x_train), color = 'blue')\n",
        "plt.title(\"Price vs Product Name of laptop\")\n",
        "plt.xlabel(\"Product Name\")\n",
        "plt.ylabel(\"Price\")\n",
        "plt.show()"
      ],
      "execution_count": null,
      "outputs": [
        {
          "output_type": "display_data",
          "data": {
            "image/png": "[encoded data removed]",
            "text/plain": [
              "<Figure size 432x288 with 1 Axes>"
            ]
          },
          "metadata": {
            "needs_background": "light"
          }
        }
      ]
    },
    {
      "cell_type": "code",
      "metadata": {
        "colab": {
          "base_uri": "https://localhost:8080/"
        },
        "id": "ocSBhbCB0BzA",
        "outputId": "49976e4b-e2b9-48e6-d12f-353a6ac0fcad"
      },
      "source": [
        " regressor.predict([[0.486224\t]])"
      ],
      "execution_count": null,
      "outputs": [
        {
          "output_type": "execute_result",
          "data": {
            "text/plain": [
              "array([0.15856921])"
            ]
          },
          "metadata": {},
          "execution_count": 21
        }
      ]
    },
    {
      "cell_type": "markdown",
      "metadata": {
        "id": "7gqmNOSAo6Q1"
      },
      "source": [
        "#Multiple Regression\n",
        "Multiple Linear Regression attempts to model the relationship between two or more features and a response by fitting a linear equation to observed data. The steps to perform multiple linear Regression are almost similar to that of simple linear Regression. The Difference Lies in the evaluation. We can use it to find out which factor has the highest impact on the predicted output and now different variables relate to each other.<br><br>\n",
        "Here : Y = b0 + b1 * x1 + b2 * x2 + b3 * x3 + …… bn * xn \n",
        "Y = Dependent variable and x1, x2, x3, …… xn = multiple independent variables "
      ]
    },
    {
      "cell_type": "code",
      "metadata": {
        "id": "Jcy9r_jJf2ix"
      },
      "source": [
        "import io\n",
        "#df2 = pd.read_csv('laptop_price.csv')\n",
        "df1=pd.read_csv('laptop_price.csv',encoding='latin-1')"
      ],
      "execution_count": null,
      "outputs": []
    },
    {
      "cell_type": "code",
      "metadata": {
        "colab": {
          "base_uri": "https://localhost:8080/",
          "height": 417
        },
        "id": "0D56t9Gxf2p8",
        "outputId": "f2687e48-188a-4c87-94d5-7746efdc1f80"
      },
      "source": [
        "df1.drop(['Cpu','Weight','laptop_ID','OpSys','Inches','ScreenResolution','Memory','Gpu'],inplace=True,axis=1)\n",
        "df1"
      ],
      "execution_count": null,
      "outputs": [
        {
          "output_type": "execute_result",
          "data": {
            "text/html": [
              "<div>\n",
              "<style scoped>\n",
              "    .dataframe tbody tr th:only-of-type {\n",
              "        vertical-align: middle;\n",
              "    }\n",
              "\n",
              "    .dataframe tbody tr th {\n",
              "        vertical-align: top;\n",
              "    }\n",
              "\n",
              "    .dataframe thead th {\n",
              "        text-align: right;\n",
              "    }\n",
              "</style>\n",
              "<table border=\"1\" class=\"dataframe\">\n",
              "  <thead>\n",
              "    <tr style=\"text-align: right;\">\n",
              "      <th></th>\n",
              "      <th>Company</th>\n",
              "      <th>Product</th>\n",
              "      <th>TypeName</th>\n",
              "      <th>Ram</th>\n",
              "      <th>Price_euros</th>\n",
              "    </tr>\n",
              "  </thead>\n",
              "  <tbody>\n",
              "    <tr>\n",
              "      <th>0</th>\n",
              "      <td>Apple</td>\n",
              "      <td>MacBook Pro</td>\n",
              "      <td>Ultrabook</td>\n",
              "      <td>8GB</td>\n",
              "      <td>1339.69</td>\n",
              "    </tr>\n",
              "    <tr>\n",
              "      <th>1</th>\n",
              "      <td>Apple</td>\n",
              "      <td>Macbook Air</td>\n",
              "      <td>Ultrabook</td>\n",
              "      <td>8GB</td>\n",
              "      <td>898.94</td>\n",
              "    </tr>\n",
              "    <tr>\n",
              "      <th>2</th>\n",
              "      <td>HP</td>\n",
              "      <td>250 G6</td>\n",
              "      <td>Notebook</td>\n",
              "      <td>8GB</td>\n",
              "      <td>575.00</td>\n",
              "    </tr>\n",
              "    <tr>\n",
              "      <th>3</th>\n",
              "      <td>Apple</td>\n",
              "      <td>MacBook Pro</td>\n",
              "      <td>Ultrabook</td>\n",
              "      <td>16GB</td>\n",
              "      <td>2537.45</td>\n",
              "    </tr>\n",
              "    <tr>\n",
              "      <th>4</th>\n",
              "      <td>Apple</td>\n",
              "      <td>MacBook Pro</td>\n",
              "      <td>Ultrabook</td>\n",
              "      <td>8GB</td>\n",
              "      <td>1803.60</td>\n",
              "    </tr>\n",
              "    <tr>\n",
              "      <th>...</th>\n",
              "      <td>...</td>\n",
              "      <td>...</td>\n",
              "      <td>...</td>\n",
              "      <td>...</td>\n",
              "      <td>...</td>\n",
              "    </tr>\n",
              "    <tr>\n",
              "      <th>1298</th>\n",
              "      <td>Lenovo</td>\n",
              "      <td>Yoga 500-14ISK</td>\n",
              "      <td>2 in 1 Convertible</td>\n",
              "      <td>4GB</td>\n",
              "      <td>638.00</td>\n",
              "    </tr>\n",
              "    <tr>\n",
              "      <th>1299</th>\n",
              "      <td>Lenovo</td>\n",
              "      <td>Yoga 900-13ISK</td>\n",
              "      <td>2 in 1 Convertible</td>\n",
              "      <td>16GB</td>\n",
              "      <td>1499.00</td>\n",
              "    </tr>\n",
              "    <tr>\n",
              "      <th>1300</th>\n",
              "      <td>Lenovo</td>\n",
              "      <td>IdeaPad 100S-14IBR</td>\n",
              "      <td>Notebook</td>\n",
              "      <td>2GB</td>\n",
              "      <td>229.00</td>\n",
              "    </tr>\n",
              "    <tr>\n",
              "      <th>1301</th>\n",
              "      <td>HP</td>\n",
              "      <td>15-AC110nv (i7-6500U/6GB/1TB/Radeon</td>\n",
              "      <td>Notebook</td>\n",
              "      <td>6GB</td>\n",
              "      <td>764.00</td>\n",
              "    </tr>\n",
              "    <tr>\n",
              "      <th>1302</th>\n",
              "      <td>Asus</td>\n",
              "      <td>X553SA-XX031T (N3050/4GB/500GB/W10)</td>\n",
              "      <td>Notebook</td>\n",
              "      <td>4GB</td>\n",
              "      <td>369.00</td>\n",
              "    </tr>\n",
              "  </tbody>\n",
              "</table>\n",
              "<p>1303 rows × 5 columns</p>\n",
              "</div>"
            ],
            "text/plain": [
              "     Company                              Product  ...   Ram Price_euros\n",
              "0      Apple                          MacBook Pro  ...   8GB     1339.69\n",
              "1      Apple                          Macbook Air  ...   8GB      898.94\n",
              "2         HP                               250 G6  ...   8GB      575.00\n",
              "3      Apple                          MacBook Pro  ...  16GB     2537.45\n",
              "4      Apple                          MacBook Pro  ...   8GB     1803.60\n",
              "...      ...                                  ...  ...   ...         ...\n",
              "1298  Lenovo                       Yoga 500-14ISK  ...   4GB      638.00\n",
              "1299  Lenovo                       Yoga 900-13ISK  ...  16GB     1499.00\n",
              "1300  Lenovo                   IdeaPad 100S-14IBR  ...   2GB      229.00\n",
              "1301      HP  15-AC110nv (i7-6500U/6GB/1TB/Radeon  ...   6GB      764.00\n",
              "1302    Asus  X553SA-XX031T (N3050/4GB/500GB/W10)  ...   4GB      369.00\n",
              "\n",
              "[1303 rows x 5 columns]"
            ]
          },
          "metadata": {},
          "execution_count": 23
        }
      ]
    },
    {
      "cell_type": "markdown",
      "metadata": {
        "id": "tiLeVC9Ht7gM"
      },
      "source": [
        "#Lable Encoding "
      ]
    },
    {
      "cell_type": "code",
      "metadata": {
        "colab": {
          "base_uri": "https://localhost:8080/",
          "height": 417
        },
        "id": "6BdSjHWerfQo",
        "outputId": "f237cafa-eac7-46fb-8d00-5ef5fa23fbeb"
      },
      "source": [
        "le={}\n",
        "for col in set(df.columns).difference({'Price_euros'}):\n",
        "    le[col] = LabelEncoder()\n",
        "    df1[col]  = le[col].fit_transform(df1[col])\n",
        "df1"
      ],
      "execution_count": null,
      "outputs": [
        {
          "output_type": "execute_result",
          "data": {
            "text/html": [
              "<div>\n",
              "<style scoped>\n",
              "    .dataframe tbody tr th:only-of-type {\n",
              "        vertical-align: middle;\n",
              "    }\n",
              "\n",
              "    .dataframe tbody tr th {\n",
              "        vertical-align: top;\n",
              "    }\n",
              "\n",
              "    .dataframe thead th {\n",
              "        text-align: right;\n",
              "    }\n",
              "</style>\n",
              "<table border=\"1\" class=\"dataframe\">\n",
              "  <thead>\n",
              "    <tr style=\"text-align: right;\">\n",
              "      <th></th>\n",
              "      <th>Company</th>\n",
              "      <th>Product</th>\n",
              "      <th>TypeName</th>\n",
              "      <th>Ram</th>\n",
              "      <th>Price_euros</th>\n",
              "    </tr>\n",
              "  </thead>\n",
              "  <tbody>\n",
              "    <tr>\n",
              "      <th>0</th>\n",
              "      <td>1</td>\n",
              "      <td>300</td>\n",
              "      <td>4</td>\n",
              "      <td>8</td>\n",
              "      <td>1339.69</td>\n",
              "    </tr>\n",
              "    <tr>\n",
              "      <th>1</th>\n",
              "      <td>1</td>\n",
              "      <td>301</td>\n",
              "      <td>4</td>\n",
              "      <td>8</td>\n",
              "      <td>898.94</td>\n",
              "    </tr>\n",
              "    <tr>\n",
              "      <th>2</th>\n",
              "      <td>7</td>\n",
              "      <td>50</td>\n",
              "      <td>3</td>\n",
              "      <td>8</td>\n",
              "      <td>575.00</td>\n",
              "    </tr>\n",
              "    <tr>\n",
              "      <th>3</th>\n",
              "      <td>1</td>\n",
              "      <td>300</td>\n",
              "      <td>4</td>\n",
              "      <td>1</td>\n",
              "      <td>2537.45</td>\n",
              "    </tr>\n",
              "    <tr>\n",
              "      <th>4</th>\n",
              "      <td>1</td>\n",
              "      <td>300</td>\n",
              "      <td>4</td>\n",
              "      <td>8</td>\n",
              "      <td>1803.60</td>\n",
              "    </tr>\n",
              "    <tr>\n",
              "      <th>...</th>\n",
              "      <td>...</td>\n",
              "      <td>...</td>\n",
              "      <td>...</td>\n",
              "      <td>...</td>\n",
              "      <td>...</td>\n",
              "    </tr>\n",
              "    <tr>\n",
              "      <th>1298</th>\n",
              "      <td>10</td>\n",
              "      <td>580</td>\n",
              "      <td>0</td>\n",
              "      <td>5</td>\n",
              "      <td>638.00</td>\n",
              "    </tr>\n",
              "    <tr>\n",
              "      <th>1299</th>\n",
              "      <td>10</td>\n",
              "      <td>588</td>\n",
              "      <td>0</td>\n",
              "      <td>1</td>\n",
              "      <td>1499.00</td>\n",
              "    </tr>\n",
              "    <tr>\n",
              "      <th>1300</th>\n",
              "      <td>10</td>\n",
              "      <td>196</td>\n",
              "      <td>3</td>\n",
              "      <td>3</td>\n",
              "      <td>229.00</td>\n",
              "    </tr>\n",
              "    <tr>\n",
              "      <th>1301</th>\n",
              "      <td>7</td>\n",
              "      <td>2</td>\n",
              "      <td>3</td>\n",
              "      <td>7</td>\n",
              "      <td>764.00</td>\n",
              "    </tr>\n",
              "    <tr>\n",
              "      <th>1302</th>\n",
              "      <td>2</td>\n",
              "      <td>568</td>\n",
              "      <td>3</td>\n",
              "      <td>5</td>\n",
              "      <td>369.00</td>\n",
              "    </tr>\n",
              "  </tbody>\n",
              "</table>\n",
              "<p>1303 rows × 5 columns</p>\n",
              "</div>"
            ],
            "text/plain": [
              "      Company  Product  TypeName  Ram  Price_euros\n",
              "0           1      300         4    8      1339.69\n",
              "1           1      301         4    8       898.94\n",
              "2           7       50         3    8       575.00\n",
              "3           1      300         4    1      2537.45\n",
              "4           1      300         4    8      1803.60\n",
              "...       ...      ...       ...  ...          ...\n",
              "1298       10      580         0    5       638.00\n",
              "1299       10      588         0    1      1499.00\n",
              "1300       10      196         3    3       229.00\n",
              "1301        7        2         3    7       764.00\n",
              "1302        2      568         3    5       369.00\n",
              "\n",
              "[1303 rows x 5 columns]"
            ]
          },
          "metadata": {},
          "execution_count": 24
        }
      ]
    },
    {
      "cell_type": "code",
      "metadata": {
        "id": "7aqP9zdE3B7T"
      },
      "source": [
        ""
      ],
      "execution_count": null,
      "outputs": []
    },
    {
      "cell_type": "markdown",
      "metadata": {
        "id": "KldMWtbGt_wE"
      },
      "source": [
        "#Feature Scaling "
      ]
    },
    {
      "cell_type": "code",
      "metadata": {
        "colab": {
          "base_uri": "https://localhost:8080/",
          "height": 417
        },
        "id": "Ud8a7KgLrfW8",
        "outputId": "1474c9c2-828c-45ea-bc6d-935486520293"
      },
      "source": [
        "def normalize_col(col_name):\n",
        "    return (df1[col_name] - df1[col_name].min())/(df1[col_name].max()-df1[col_name].min())\n",
        "\n",
        "for col in ['Product','Price_euros']:\n",
        "    df1[col]=normalize_col(col) \n",
        "df1"
      ],
      "execution_count": null,
      "outputs": [
        {
          "output_type": "execute_result",
          "data": {
            "text/html": [
              "<div>\n",
              "<style scoped>\n",
              "    .dataframe tbody tr th:only-of-type {\n",
              "        vertical-align: middle;\n",
              "    }\n",
              "\n",
              "    .dataframe tbody tr th {\n",
              "        vertical-align: top;\n",
              "    }\n",
              "\n",
              "    .dataframe thead th {\n",
              "        text-align: right;\n",
              "    }\n",
              "</style>\n",
              "<table border=\"1\" class=\"dataframe\">\n",
              "  <thead>\n",
              "    <tr style=\"text-align: right;\">\n",
              "      <th></th>\n",
              "      <th>Company</th>\n",
              "      <th>Product</th>\n",
              "      <th>TypeName</th>\n",
              "      <th>Ram</th>\n",
              "      <th>Price_euros</th>\n",
              "    </tr>\n",
              "  </thead>\n",
              "  <tbody>\n",
              "    <tr>\n",
              "      <th>0</th>\n",
              "      <td>1</td>\n",
              "      <td>0.486224</td>\n",
              "      <td>4</td>\n",
              "      <td>8</td>\n",
              "      <td>0.196741</td>\n",
              "    </tr>\n",
              "    <tr>\n",
              "      <th>1</th>\n",
              "      <td>1</td>\n",
              "      <td>0.487844</td>\n",
              "      <td>4</td>\n",
              "      <td>8</td>\n",
              "      <td>0.122353</td>\n",
              "    </tr>\n",
              "    <tr>\n",
              "      <th>2</th>\n",
              "      <td>7</td>\n",
              "      <td>0.081037</td>\n",
              "      <td>3</td>\n",
              "      <td>8</td>\n",
              "      <td>0.067679</td>\n",
              "    </tr>\n",
              "    <tr>\n",
              "      <th>3</th>\n",
              "      <td>1</td>\n",
              "      <td>0.486224</td>\n",
              "      <td>4</td>\n",
              "      <td>1</td>\n",
              "      <td>0.398895</td>\n",
              "    </tr>\n",
              "    <tr>\n",
              "      <th>4</th>\n",
              "      <td>1</td>\n",
              "      <td>0.486224</td>\n",
              "      <td>4</td>\n",
              "      <td>8</td>\n",
              "      <td>0.275038</td>\n",
              "    </tr>\n",
              "    <tr>\n",
              "      <th>...</th>\n",
              "      <td>...</td>\n",
              "      <td>...</td>\n",
              "      <td>...</td>\n",
              "      <td>...</td>\n",
              "      <td>...</td>\n",
              "    </tr>\n",
              "    <tr>\n",
              "      <th>1298</th>\n",
              "      <td>10</td>\n",
              "      <td>0.940032</td>\n",
              "      <td>0</td>\n",
              "      <td>5</td>\n",
              "      <td>0.078312</td>\n",
              "    </tr>\n",
              "    <tr>\n",
              "      <th>1299</th>\n",
              "      <td>10</td>\n",
              "      <td>0.952998</td>\n",
              "      <td>0</td>\n",
              "      <td>1</td>\n",
              "      <td>0.223629</td>\n",
              "    </tr>\n",
              "    <tr>\n",
              "      <th>1300</th>\n",
              "      <td>10</td>\n",
              "      <td>0.317666</td>\n",
              "      <td>3</td>\n",
              "      <td>3</td>\n",
              "      <td>0.009283</td>\n",
              "    </tr>\n",
              "    <tr>\n",
              "      <th>1301</th>\n",
              "      <td>7</td>\n",
              "      <td>0.003241</td>\n",
              "      <td>3</td>\n",
              "      <td>7</td>\n",
              "      <td>0.099578</td>\n",
              "    </tr>\n",
              "    <tr>\n",
              "      <th>1302</th>\n",
              "      <td>2</td>\n",
              "      <td>0.920583</td>\n",
              "      <td>3</td>\n",
              "      <td>5</td>\n",
              "      <td>0.032911</td>\n",
              "    </tr>\n",
              "  </tbody>\n",
              "</table>\n",
              "<p>1303 rows × 5 columns</p>\n",
              "</div>"
            ],
            "text/plain": [
              "      Company   Product  TypeName  Ram  Price_euros\n",
              "0           1  0.486224         4    8     0.196741\n",
              "1           1  0.487844         4    8     0.122353\n",
              "2           7  0.081037         3    8     0.067679\n",
              "3           1  0.486224         4    1     0.398895\n",
              "4           1  0.486224         4    8     0.275038\n",
              "...       ...       ...       ...  ...          ...\n",
              "1298       10  0.940032         0    5     0.078312\n",
              "1299       10  0.952998         0    1     0.223629\n",
              "1300       10  0.317666         3    3     0.009283\n",
              "1301        7  0.003241         3    7     0.099578\n",
              "1302        2  0.920583         3    5     0.032911\n",
              "\n",
              "[1303 rows x 5 columns]"
            ]
          },
          "metadata": {},
          "execution_count": 25
        }
      ]
    },
    {
      "cell_type": "code",
      "metadata": {
        "id": "mTw1t4LWrfbd"
      },
      "source": [
        "x = df1.iloc[:, :-1].values\n",
        "y = df1.iloc[:, -1].values"
      ],
      "execution_count": null,
      "outputs": []
    },
    {
      "cell_type": "markdown",
      "metadata": {
        "id": "6INC0dpMtwp7"
      },
      "source": [
        "#Splitting into test and training set"
      ]
    },
    {
      "cell_type": "code",
      "metadata": {
        "id": "hEAFwsbirfej"
      },
      "source": [
        "from sklearn.model_selection import train_test_split\n",
        "X_train, X_test, y_train, y_test = train_test_split(x, y, test_size = 0.3, random_state = 1)"
      ],
      "execution_count": null,
      "outputs": []
    },
    {
      "cell_type": "markdown",
      "metadata": {
        "id": "Yy8whBnxtrrK"
      },
      "source": [
        "#Training the Multiple Linear Regression model on the Training set"
      ]
    },
    {
      "cell_type": "code",
      "metadata": {
        "colab": {
          "base_uri": "https://localhost:8080/"
        },
        "id": "muoFiW6Wrfh0",
        "outputId": "338a8bdd-f078-4a7e-888b-d56f05865a88"
      },
      "source": [
        "from sklearn.linear_model import LinearRegression\n",
        "regressor = LinearRegression()\n",
        "regressor.fit(X_train, y_train)"
      ],
      "execution_count": null,
      "outputs": [
        {
          "output_type": "execute_result",
          "data": {
            "text/plain": [
              "LinearRegression(copy_X=True, fit_intercept=True, n_jobs=None, normalize=False)"
            ]
          },
          "metadata": {},
          "execution_count": 28
        }
      ]
    },
    {
      "cell_type": "markdown",
      "metadata": {
        "id": "J3gTDuMwtjGc"
      },
      "source": [
        "#Predicting the Test set results"
      ]
    },
    {
      "cell_type": "code",
      "metadata": {
        "colab": {
          "base_uri": "https://localhost:8080/"
        },
        "id": "xQUbPJocrfkF",
        "outputId": "77feb9c7-1067-4bc3-c377-29e7b9338b8b"
      },
      "source": [
        "y_pred = regressor.predict(X_test)\n",
        "np.set_printoptions(precision= 3)\n",
        "print(np.concatenate((y_pred.reshape(len(y_pred), 1), y_test.reshape(len(y_test),1)), 1))"
      ],
      "execution_count": null,
      "outputs": [
        {
          "output_type": "stream",
          "name": "stdout",
          "text": [
            "[[0.122 0.047]\n",
            " [0.13  0.094]\n",
            " [0.235 0.153]\n",
            " [0.139 0.148]\n",
            " [0.125 0.291]\n",
            " [0.139 0.142]\n",
            " [0.104 0.098]\n",
            " [0.157 0.08 ]\n",
            " [0.117 0.019]\n",
            " [0.16  0.302]\n",
            " [0.117 0.226]\n",
            " [0.139 0.107]\n",
            " [0.184 0.408]\n",
            " [0.136 0.203]\n",
            " [0.134 0.136]\n",
            " [0.189 0.215]\n",
            " [0.171 0.171]\n",
            " [0.162 0.2  ]\n",
            " [0.137 0.146]\n",
            " [0.149 0.156]\n",
            " [0.117 0.105]\n",
            " [0.148 0.065]\n",
            " [0.204 0.305]\n",
            " [0.136 0.207]\n",
            " [0.192 0.089]\n",
            " [0.191 0.19 ]\n",
            " [0.196 0.054]\n",
            " [0.138 0.063]\n",
            " [0.139 0.139]\n",
            " [0.171 0.141]\n",
            " [0.191 0.503]\n",
            " [0.153 0.075]\n",
            " [0.161 0.111]\n",
            " [0.18  0.135]\n",
            " [0.21  0.316]\n",
            " [0.191 0.066]\n",
            " [0.116 0.107]\n",
            " [0.17  0.049]\n",
            " [0.17  0.03 ]\n",
            " [0.161 0.172]\n",
            " [0.162 0.127]\n",
            " [0.17  0.04 ]\n",
            " [0.17  0.092]\n",
            " [0.151 0.098]\n",
            " [0.136 0.207]\n",
            " [0.144 0.074]\n",
            " [0.206 0.188]\n",
            " [0.268 0.224]\n",
            " [0.194 0.19 ]\n",
            " [0.242 0.291]\n",
            " [0.154 0.16 ]\n",
            " [0.161 0.117]\n",
            " [0.234 0.283]\n",
            " [0.152 0.122]\n",
            " [0.167 0.207]\n",
            " [0.154 0.154]\n",
            " [0.23  0.418]\n",
            " [0.132 0.15 ]\n",
            " [0.114 0.131]\n",
            " [0.171 0.086]\n",
            " [0.211 0.274]\n",
            " [0.137 0.192]\n",
            " [0.211 0.329]\n",
            " [0.184 0.486]\n",
            " [0.116 0.067]\n",
            " [0.167 0.274]\n",
            " [0.085 0.046]\n",
            " [0.127 0.021]\n",
            " [0.159 0.443]\n",
            " [0.162 0.207]\n",
            " [0.119 0.154]\n",
            " [0.189 0.229]\n",
            " [0.112 0.26 ]\n",
            " [0.225 0.203]\n",
            " [0.199 0.443]\n",
            " [0.112 0.209]\n",
            " [0.139 0.153]\n",
            " [0.17  0.093]\n",
            " [0.206 0.082]\n",
            " [0.229 0.19 ]\n",
            " [0.144 0.029]\n",
            " [0.191 0.119]\n",
            " [0.14  0.167]\n",
            " [0.133 0.159]\n",
            " [0.171 0.072]\n",
            " [0.23  0.357]\n",
            " [0.186 0.284]\n",
            " [0.219 0.313]\n",
            " [0.139 0.105]\n",
            " [0.142 0.03 ]\n",
            " [0.1   0.225]\n",
            " [0.138 0.122]\n",
            " [0.139 0.125]\n",
            " [0.139 0.156]\n",
            " [0.171 0.092]\n",
            " [0.26  0.447]\n",
            " [0.148 0.055]\n",
            " [0.116 0.026]\n",
            " [0.141 0.045]\n",
            " [0.117 0.184]\n",
            " [0.142 0.234]\n",
            " [0.136 0.303]\n",
            " [0.136 0.249]\n",
            " [0.211 0.392]\n",
            " [0.161 0.323]\n",
            " [0.191 0.446]\n",
            " [0.23  0.316]\n",
            " [0.117 0.045]\n",
            " [0.122 0.172]\n",
            " [0.112 0.079]\n",
            " [0.144 0.35 ]\n",
            " [0.148 0.025]\n",
            " [0.186 0.051]\n",
            " [0.142 0.087]\n",
            " [0.109 0.268]\n",
            " [0.167 0.092]\n",
            " [0.194 0.257]\n",
            " [0.144 0.05 ]\n",
            " [0.175 0.382]\n",
            " [0.212 0.046]\n",
            " [0.162 0.229]\n",
            " [0.118 0.198]\n",
            " [0.139 0.105]\n",
            " [0.153 0.178]\n",
            " [0.171 0.15 ]\n",
            " [0.142 0.347]\n",
            " [0.152 0.059]\n",
            " [0.226 0.19 ]\n",
            " [0.168 0.049]\n",
            " [0.172 0.105]\n",
            " [0.167 0.033]\n",
            " [0.211 0.291]\n",
            " [0.14  0.121]\n",
            " [0.191 0.443]\n",
            " [0.235 0.274]\n",
            " [0.165 0.109]\n",
            " [0.161 0.141]\n",
            " [0.171 0.102]\n",
            " [0.148 0.046]\n",
            " [0.136 0.245]\n",
            " [0.11  0.19 ]\n",
            " [0.148 0.046]\n",
            " [0.17  0.07 ]\n",
            " [0.149 0.116]\n",
            " [0.239 0.253]\n",
            " [0.219 0.375]\n",
            " [0.139 0.137]\n",
            " [0.116 0.036]\n",
            " [0.186 0.242]\n",
            " [0.235 0.17 ]\n",
            " [0.16  0.241]\n",
            " [0.213 0.156]\n",
            " [0.117 0.134]\n",
            " [0.201 0.08 ]\n",
            " [0.148 0.088]\n",
            " [0.116 0.184]\n",
            " [0.137 0.026]\n",
            " [0.151 0.068]\n",
            " [0.171 0.096]\n",
            " [0.122 0.06 ]\n",
            " [0.17  0.085]\n",
            " [0.161 0.286]\n",
            " [0.151 0.052]\n",
            " [0.134 0.131]\n",
            " [0.136 0.25 ]\n",
            " [0.154 0.249]\n",
            " [0.126 0.031]\n",
            " [0.191 0.138]\n",
            " [0.23  0.384]\n",
            " [0.155 0.036]\n",
            " [0.119 0.128]\n",
            " [0.18  0.116]\n",
            " [0.228 0.325]\n",
            " [0.196 0.014]\n",
            " [0.259 0.382]\n",
            " [0.235 0.371]\n",
            " [0.197 0.111]\n",
            " [0.174 0.095]\n",
            " [0.117 0.106]\n",
            " [0.17  0.098]\n",
            " [0.141 0.181]\n",
            " [0.149 0.063]\n",
            " [0.116 0.085]\n",
            " [0.139 0.108]\n",
            " [0.101 0.301]\n",
            " [0.084 0.113]\n",
            " [0.121 0.113]\n",
            " [0.249 0.285]\n",
            " [0.183 0.15 ]\n",
            " [0.14  0.122]\n",
            " [0.169 0.02 ]\n",
            " [0.112 0.302]\n",
            " [0.14  0.122]\n",
            " [0.115 0.089]\n",
            " [0.174 0.095]\n",
            " [0.195 0.016]\n",
            " [0.118 0.185]\n",
            " [0.183 0.317]\n",
            " [0.15  0.082]\n",
            " [0.231 0.392]\n",
            " [0.136 0.269]\n",
            " [0.112 0.156]\n",
            " [0.223 0.122]\n",
            " [0.116 0.097]\n",
            " [0.116 0.06 ]\n",
            " [0.138 0.165]\n",
            " [0.117 0.032]\n",
            " [0.168 0.291]\n",
            " [0.169 0.013]\n",
            " [0.236 0.266]\n",
            " [0.205 0.006]\n",
            " [0.143 0.165]\n",
            " [0.153 0.287]\n",
            " [0.128 0.072]\n",
            " [0.175 0.332]\n",
            " [0.235 0.409]\n",
            " [0.149 0.156]\n",
            " [0.139 0.151]\n",
            " [0.141 0.053]\n",
            " [0.138 0.19 ]\n",
            " [0.143 0.637]\n",
            " [0.139 0.07 ]\n",
            " [0.148 0.037]\n",
            " [0.229 0.223]\n",
            " [0.159 0.502]\n",
            " [0.17  0.03 ]\n",
            " [0.137 0.165]\n",
            " [0.131 0.148]\n",
            " [0.193 0.132]\n",
            " [0.247 0.156]\n",
            " [0.085 0.096]\n",
            " [0.159 0.576]\n",
            " [0.143 0.026]\n",
            " [0.136 0.198]\n",
            " [0.159 0.502]\n",
            " [0.112 0.219]\n",
            " [0.11  0.103]\n",
            " [0.133 0.137]\n",
            " [0.228 0.313]\n",
            " [0.172 0.057]\n",
            " [0.205 0.223]\n",
            " [0.166 0.038]\n",
            " [0.174 0.07 ]\n",
            " [0.138 0.077]\n",
            " [0.144 0.089]\n",
            " [0.125 0.051]\n",
            " [0.109 0.148]\n",
            " [0.117 0.113]\n",
            " [0.142 0.035]\n",
            " [0.084 0.119]\n",
            " [0.151 0.176]\n",
            " [0.23  0.278]\n",
            " [0.136 0.136]\n",
            " [0.14  0.112]\n",
            " [0.112 0.072]\n",
            " [0.116 0.062]\n",
            " [0.195 0.043]\n",
            " [0.152 0.274]\n",
            " [0.084 0.068]\n",
            " [0.211 0.241]\n",
            " [0.139 0.072]\n",
            " [0.112 0.27 ]\n",
            " [0.142 0.083]\n",
            " [0.118 0.237]\n",
            " [0.208 0.443]\n",
            " [0.154 0.156]\n",
            " [0.141 0.153]\n",
            " [0.231 0.367]\n",
            " [0.203 0.899]\n",
            " [0.157 0.642]\n",
            " [0.108 0.138]\n",
            " [0.117 0.154]\n",
            " [0.122 0.08 ]\n",
            " [0.204 0.005]\n",
            " [0.257 0.211]\n",
            " [0.207 0.156]\n",
            " [0.195 0.033]\n",
            " [0.208 0.224]\n",
            " [0.235 0.181]\n",
            " [0.186 0.267]\n",
            " [0.165 0.044]\n",
            " [0.231 0.232]\n",
            " [0.215 0.17 ]\n",
            " [0.136 0.215]\n",
            " [0.17  0.038]\n",
            " [0.141 0.109]\n",
            " [0.138 0.058]\n",
            " [0.11  0.121]\n",
            " [0.123 0.081]\n",
            " [0.198 0.022]\n",
            " [0.197 0.013]\n",
            " [0.132 0.109]\n",
            " [0.139 0.173]\n",
            " [0.159 0.152]\n",
            " [0.197 0.06 ]\n",
            " [0.23  0.296]\n",
            " [0.167 0.068]\n",
            " [0.11  0.337]\n",
            " [0.143 0.02 ]\n",
            " [0.161 0.207]\n",
            " [0.208 0.282]\n",
            " [0.172 0.041]\n",
            " [0.14  0.122]\n",
            " [0.117 0.036]\n",
            " [0.226 0.19 ]\n",
            " [0.126 0.293]\n",
            " [0.193 0.138]\n",
            " [0.117 0.087]\n",
            " [0.143 0.053]\n",
            " [0.192 0.14 ]\n",
            " [0.21  0.208]\n",
            " [0.172 0.063]\n",
            " [0.194 0.153]\n",
            " [0.174 0.067]\n",
            " [0.18  0.108]\n",
            " [0.235 0.207]\n",
            " [0.112 0.078]\n",
            " [0.162 0.156]\n",
            " [0.171 0.129]\n",
            " [0.116 0.085]\n",
            " [0.109 0.083]\n",
            " [0.101 0.139]\n",
            " [0.208 0.198]\n",
            " [0.212 0.266]\n",
            " [0.225 0.077]\n",
            " [0.11  0.077]\n",
            " [0.123 0.23 ]\n",
            " [0.23  0.139]\n",
            " [0.109 0.077]\n",
            " [0.17  0.029]\n",
            " [0.143 0.46 ]\n",
            " [0.175 0.262]\n",
            " [0.144 0.052]\n",
            " [0.217 0.379]\n",
            " [0.167 0.155]\n",
            " [0.14  0.082]\n",
            " [0.148 0.066]\n",
            " [0.14  0.122]\n",
            " [0.116 0.066]\n",
            " [0.189 0.016]\n",
            " [0.154 0.168]\n",
            " [0.118 0.191]\n",
            " [0.15  0.104]\n",
            " [0.117 0.062]\n",
            " [0.126 0.048]\n",
            " [0.139 0.16 ]\n",
            " [0.108 0.036]\n",
            " [0.11  0.342]\n",
            " [0.2   0.185]\n",
            " [0.139 0.123]\n",
            " [0.173 0.274]\n",
            " [0.109 0.072]\n",
            " [0.175 0.217]\n",
            " [0.191 0.439]\n",
            " [0.142 0.105]\n",
            " [0.144 0.037]\n",
            " [0.112 0.281]\n",
            " [0.191 0.103]\n",
            " [0.196 0.102]\n",
            " [0.209 0.017]\n",
            " [0.158 0.165]\n",
            " [0.16  0.11 ]\n",
            " [0.138 0.043]\n",
            " [0.119 0.141]\n",
            " [0.133 0.055]\n",
            " [0.226 0.08 ]\n",
            " [0.162 0.219]\n",
            " [0.161 0.197]\n",
            " [0.151 0.118]\n",
            " [0.165 0.198]\n",
            " [0.17  0.03 ]\n",
            " [0.144 0.014]\n",
            " [0.154 0.284]\n",
            " [0.153 0.078]\n",
            " [0.144 0.038]\n",
            " [0.154 0.238]\n",
            " [0.161 0.158]\n",
            " [0.144 0.278]\n",
            " [0.17  0.073]\n",
            " [0.15  0.089]\n",
            " [0.116 0.05 ]\n",
            " [0.111 0.165]\n",
            " [0.228 0.274]\n",
            " [0.153 0.316]\n",
            " [0.191 0.116]\n",
            " [0.171 0.135]\n",
            " [0.191 0.148]\n",
            " [0.204 0.015]\n",
            " [0.188 0.034]\n",
            " [0.216 0.304]\n",
            " [0.142 0.059]]\n"
          ]
        }
      ]
    },
    {
      "cell_type": "markdown",
      "metadata": {
        "id": "gsieYG-Htavq"
      },
      "source": [
        "#Visualising the Results"
      ]
    },
    {
      "cell_type": "code",
      "metadata": {
        "colab": {
          "base_uri": "https://localhost:8080/",
          "height": 262
        },
        "id": "hwvZdsA1rfmj",
        "outputId": "733c86c7-6b5c-4213-b483-e977c1b10e0c"
      },
      "source": [
        "plt.plot(y_pred)\n",
        "plt.plot(y_test)\n",
        "plt.show()"
      ],
      "execution_count": null,
      "outputs": [
        {
          "output_type": "display_data",
          "data": {
            "image/png": "[encoded data removed]",
            "text/plain": [
              "<Figure size 432x288 with 1 Axes>"
            ]
          },
          "metadata": {
            "needs_background": "light"
          }
        }
      ]
    },
    {
      "cell_type": "markdown",
      "metadata": {
        "id": "hfDSFZnJ4hMy"
      },
      "source": [
        "Here we have applied multiple linear regression model on the dataset. We can visualise that at some region the orange graph lines are steeper than the blue graph lines.This proves that multiple regression model fits better than the linear regression model but still it is not the best fitted plot as because some predictions has crossed the test values.\n"
      ]
    },
    {
      "cell_type": "markdown",
      "metadata": {
        "id": "K6dO_TXtw_UC"
      },
      "source": [
        "#Random Forest\n",
        "Random forests or random decision forests are an ensemble learning method for classification, regression and other tasks that operates by constructing a multitude of decision trees at training time. For classification tasks, the output of the random forest is the class selected by most trees. For regression tasks, the mean or average prediction of the individual trees is returned.Random decision forests correct for decision trees' habit of overfitting to their training set 587–588  Random forests generally outperform decision trees, but their accuracy is lower than gradient boosted trees. However, data characteristics can affect their performance."
      ]
    },
    {
      "cell_type": "code",
      "metadata": {
        "id": "Z-OmcNlPrfvT"
      },
      "source": [
        "import io\n",
        "#df2 = pd.read_csv('laptop_price.csv')\n",
        "dfam=pd.read_csv('laptop_price.csv',encoding='latin-1')"
      ],
      "execution_count": null,
      "outputs": []
    },
    {
      "cell_type": "code",
      "metadata": {
        "colab": {
          "base_uri": "https://localhost:8080/",
          "height": 417
        },
        "id": "HXYgHo4D22nK",
        "outputId": "a1408787-e294-4a3c-d7df-f342cda81c2d"
      },
      "source": [
        "dfam.drop(['Cpu','Weight','laptop_ID','OpSys','Inches','ScreenResolution','Memory','Gpu'],inplace=True,axis=1)\n",
        "dfam"
      ],
      "execution_count": null,
      "outputs": [
        {
          "output_type": "execute_result",
          "data": {
            "text/html": [
              "<div>\n",
              "<style scoped>\n",
              "    .dataframe tbody tr th:only-of-type {\n",
              "        vertical-align: middle;\n",
              "    }\n",
              "\n",
              "    .dataframe tbody tr th {\n",
              "        vertical-align: top;\n",
              "    }\n",
              "\n",
              "    .dataframe thead th {\n",
              "        text-align: right;\n",
              "    }\n",
              "</style>\n",
              "<table border=\"1\" class=\"dataframe\">\n",
              "  <thead>\n",
              "    <tr style=\"text-align: right;\">\n",
              "      <th></th>\n",
              "      <th>Company</th>\n",
              "      <th>Product</th>\n",
              "      <th>TypeName</th>\n",
              "      <th>Ram</th>\n",
              "      <th>Price_euros</th>\n",
              "    </tr>\n",
              "  </thead>\n",
              "  <tbody>\n",
              "    <tr>\n",
              "      <th>0</th>\n",
              "      <td>Apple</td>\n",
              "      <td>MacBook Pro</td>\n",
              "      <td>Ultrabook</td>\n",
              "      <td>8GB</td>\n",
              "      <td>1339.69</td>\n",
              "    </tr>\n",
              "    <tr>\n",
              "      <th>1</th>\n",
              "      <td>Apple</td>\n",
              "      <td>Macbook Air</td>\n",
              "      <td>Ultrabook</td>\n",
              "      <td>8GB</td>\n",
              "      <td>898.94</td>\n",
              "    </tr>\n",
              "    <tr>\n",
              "      <th>2</th>\n",
              "      <td>HP</td>\n",
              "      <td>250 G6</td>\n",
              "      <td>Notebook</td>\n",
              "      <td>8GB</td>\n",
              "      <td>575.00</td>\n",
              "    </tr>\n",
              "    <tr>\n",
              "      <th>3</th>\n",
              "      <td>Apple</td>\n",
              "      <td>MacBook Pro</td>\n",
              "      <td>Ultrabook</td>\n",
              "      <td>16GB</td>\n",
              "      <td>2537.45</td>\n",
              "    </tr>\n",
              "    <tr>\n",
              "      <th>4</th>\n",
              "      <td>Apple</td>\n",
              "      <td>MacBook Pro</td>\n",
              "      <td>Ultrabook</td>\n",
              "      <td>8GB</td>\n",
              "      <td>1803.60</td>\n",
              "    </tr>\n",
              "    <tr>\n",
              "      <th>...</th>\n",
              "      <td>...</td>\n",
              "      <td>...</td>\n",
              "      <td>...</td>\n",
              "      <td>...</td>\n",
              "      <td>...</td>\n",
              "    </tr>\n",
              "    <tr>\n",
              "      <th>1298</th>\n",
              "      <td>Lenovo</td>\n",
              "      <td>Yoga 500-14ISK</td>\n",
              "      <td>2 in 1 Convertible</td>\n",
              "      <td>4GB</td>\n",
              "      <td>638.00</td>\n",
              "    </tr>\n",
              "    <tr>\n",
              "      <th>1299</th>\n",
              "      <td>Lenovo</td>\n",
              "      <td>Yoga 900-13ISK</td>\n",
              "      <td>2 in 1 Convertible</td>\n",
              "      <td>16GB</td>\n",
              "      <td>1499.00</td>\n",
              "    </tr>\n",
              "    <tr>\n",
              "      <th>1300</th>\n",
              "      <td>Lenovo</td>\n",
              "      <td>IdeaPad 100S-14IBR</td>\n",
              "      <td>Notebook</td>\n",
              "      <td>2GB</td>\n",
              "      <td>229.00</td>\n",
              "    </tr>\n",
              "    <tr>\n",
              "      <th>1301</th>\n",
              "      <td>HP</td>\n",
              "      <td>15-AC110nv (i7-6500U/6GB/1TB/Radeon</td>\n",
              "      <td>Notebook</td>\n",
              "      <td>6GB</td>\n",
              "      <td>764.00</td>\n",
              "    </tr>\n",
              "    <tr>\n",
              "      <th>1302</th>\n",
              "      <td>Asus</td>\n",
              "      <td>X553SA-XX031T (N3050/4GB/500GB/W10)</td>\n",
              "      <td>Notebook</td>\n",
              "      <td>4GB</td>\n",
              "      <td>369.00</td>\n",
              "    </tr>\n",
              "  </tbody>\n",
              "</table>\n",
              "<p>1303 rows × 5 columns</p>\n",
              "</div>"
            ],
            "text/plain": [
              "     Company                              Product  ...   Ram Price_euros\n",
              "0      Apple                          MacBook Pro  ...   8GB     1339.69\n",
              "1      Apple                          Macbook Air  ...   8GB      898.94\n",
              "2         HP                               250 G6  ...   8GB      575.00\n",
              "3      Apple                          MacBook Pro  ...  16GB     2537.45\n",
              "4      Apple                          MacBook Pro  ...   8GB     1803.60\n",
              "...      ...                                  ...  ...   ...         ...\n",
              "1298  Lenovo                       Yoga 500-14ISK  ...   4GB      638.00\n",
              "1299  Lenovo                       Yoga 900-13ISK  ...  16GB     1499.00\n",
              "1300  Lenovo                   IdeaPad 100S-14IBR  ...   2GB      229.00\n",
              "1301      HP  15-AC110nv (i7-6500U/6GB/1TB/Radeon  ...   6GB      764.00\n",
              "1302    Asus  X553SA-XX031T (N3050/4GB/500GB/W10)  ...   4GB      369.00\n",
              "\n",
              "[1303 rows x 5 columns]"
            ]
          },
          "metadata": {},
          "execution_count": 32
        }
      ]
    },
    {
      "cell_type": "code",
      "metadata": {
        "colab": {
          "base_uri": "https://localhost:8080/",
          "height": 417
        },
        "id": "gJXVIXVh3Dr4",
        "outputId": "b2b8e39f-3490-4cb9-90df-b4a9ee42b130"
      },
      "source": [
        "le={}\n",
        "for col in set(dfam.columns).difference({'Price_euros'}):\n",
        "    le[col] = LabelEncoder()\n",
        "    dfam[col]  = le[col].fit_transform(dfam[col])\n",
        "dfam"
      ],
      "execution_count": null,
      "outputs": [
        {
          "output_type": "execute_result",
          "data": {
            "text/html": [
              "<div>\n",
              "<style scoped>\n",
              "    .dataframe tbody tr th:only-of-type {\n",
              "        vertical-align: middle;\n",
              "    }\n",
              "\n",
              "    .dataframe tbody tr th {\n",
              "        vertical-align: top;\n",
              "    }\n",
              "\n",
              "    .dataframe thead th {\n",
              "        text-align: right;\n",
              "    }\n",
              "</style>\n",
              "<table border=\"1\" class=\"dataframe\">\n",
              "  <thead>\n",
              "    <tr style=\"text-align: right;\">\n",
              "      <th></th>\n",
              "      <th>Company</th>\n",
              "      <th>Product</th>\n",
              "      <th>TypeName</th>\n",
              "      <th>Ram</th>\n",
              "      <th>Price_euros</th>\n",
              "    </tr>\n",
              "  </thead>\n",
              "  <tbody>\n",
              "    <tr>\n",
              "      <th>0</th>\n",
              "      <td>1</td>\n",
              "      <td>300</td>\n",
              "      <td>4</td>\n",
              "      <td>8</td>\n",
              "      <td>1339.69</td>\n",
              "    </tr>\n",
              "    <tr>\n",
              "      <th>1</th>\n",
              "      <td>1</td>\n",
              "      <td>301</td>\n",
              "      <td>4</td>\n",
              "      <td>8</td>\n",
              "      <td>898.94</td>\n",
              "    </tr>\n",
              "    <tr>\n",
              "      <th>2</th>\n",
              "      <td>7</td>\n",
              "      <td>50</td>\n",
              "      <td>3</td>\n",
              "      <td>8</td>\n",
              "      <td>575.00</td>\n",
              "    </tr>\n",
              "    <tr>\n",
              "      <th>3</th>\n",
              "      <td>1</td>\n",
              "      <td>300</td>\n",
              "      <td>4</td>\n",
              "      <td>1</td>\n",
              "      <td>2537.45</td>\n",
              "    </tr>\n",
              "    <tr>\n",
              "      <th>4</th>\n",
              "      <td>1</td>\n",
              "      <td>300</td>\n",
              "      <td>4</td>\n",
              "      <td>8</td>\n",
              "      <td>1803.60</td>\n",
              "    </tr>\n",
              "    <tr>\n",
              "      <th>...</th>\n",
              "      <td>...</td>\n",
              "      <td>...</td>\n",
              "      <td>...</td>\n",
              "      <td>...</td>\n",
              "      <td>...</td>\n",
              "    </tr>\n",
              "    <tr>\n",
              "      <th>1298</th>\n",
              "      <td>10</td>\n",
              "      <td>580</td>\n",
              "      <td>0</td>\n",
              "      <td>5</td>\n",
              "      <td>638.00</td>\n",
              "    </tr>\n",
              "    <tr>\n",
              "      <th>1299</th>\n",
              "      <td>10</td>\n",
              "      <td>588</td>\n",
              "      <td>0</td>\n",
              "      <td>1</td>\n",
              "      <td>1499.00</td>\n",
              "    </tr>\n",
              "    <tr>\n",
              "      <th>1300</th>\n",
              "      <td>10</td>\n",
              "      <td>196</td>\n",
              "      <td>3</td>\n",
              "      <td>3</td>\n",
              "      <td>229.00</td>\n",
              "    </tr>\n",
              "    <tr>\n",
              "      <th>1301</th>\n",
              "      <td>7</td>\n",
              "      <td>2</td>\n",
              "      <td>3</td>\n",
              "      <td>7</td>\n",
              "      <td>764.00</td>\n",
              "    </tr>\n",
              "    <tr>\n",
              "      <th>1302</th>\n",
              "      <td>2</td>\n",
              "      <td>568</td>\n",
              "      <td>3</td>\n",
              "      <td>5</td>\n",
              "      <td>369.00</td>\n",
              "    </tr>\n",
              "  </tbody>\n",
              "</table>\n",
              "<p>1303 rows × 5 columns</p>\n",
              "</div>"
            ],
            "text/plain": [
              "      Company  Product  TypeName  Ram  Price_euros\n",
              "0           1      300         4    8      1339.69\n",
              "1           1      301         4    8       898.94\n",
              "2           7       50         3    8       575.00\n",
              "3           1      300         4    1      2537.45\n",
              "4           1      300         4    8      1803.60\n",
              "...       ...      ...       ...  ...          ...\n",
              "1298       10      580         0    5       638.00\n",
              "1299       10      588         0    1      1499.00\n",
              "1300       10      196         3    3       229.00\n",
              "1301        7        2         3    7       764.00\n",
              "1302        2      568         3    5       369.00\n",
              "\n",
              "[1303 rows x 5 columns]"
            ]
          },
          "metadata": {},
          "execution_count": 33
        }
      ]
    },
    {
      "cell_type": "code",
      "metadata": {
        "colab": {
          "base_uri": "https://localhost:8080/",
          "height": 417
        },
        "id": "aX6xaz143EEo",
        "outputId": "4e7aea95-7373-4271-90ee-754877e75e62"
      },
      "source": [
        "def normalize_col(col_name):\n",
        "    return (dfam[col_name] - dfam[col_name].min())/(dfam[col_name].max()-dfam[col_name].min())\n",
        "\n",
        "for col in ['Product','Price_euros']:\n",
        "    dfam[col]=normalize_col(col) \n",
        "dfam"
      ],
      "execution_count": null,
      "outputs": [
        {
          "output_type": "execute_result",
          "data": {
            "text/html": [
              "<div>\n",
              "<style scoped>\n",
              "    .dataframe tbody tr th:only-of-type {\n",
              "        vertical-align: middle;\n",
              "    }\n",
              "\n",
              "    .dataframe tbody tr th {\n",
              "        vertical-align: top;\n",
              "    }\n",
              "\n",
              "    .dataframe thead th {\n",
              "        text-align: right;\n",
              "    }\n",
              "</style>\n",
              "<table border=\"1\" class=\"dataframe\">\n",
              "  <thead>\n",
              "    <tr style=\"text-align: right;\">\n",
              "      <th></th>\n",
              "      <th>Company</th>\n",
              "      <th>Product</th>\n",
              "      <th>TypeName</th>\n",
              "      <th>Ram</th>\n",
              "      <th>Price_euros</th>\n",
              "    </tr>\n",
              "  </thead>\n",
              "  <tbody>\n",
              "    <tr>\n",
              "      <th>0</th>\n",
              "      <td>1</td>\n",
              "      <td>0.486224</td>\n",
              "      <td>4</td>\n",
              "      <td>8</td>\n",
              "      <td>0.196741</td>\n",
              "    </tr>\n",
              "    <tr>\n",
              "      <th>1</th>\n",
              "      <td>1</td>\n",
              "      <td>0.487844</td>\n",
              "      <td>4</td>\n",
              "      <td>8</td>\n",
              "      <td>0.122353</td>\n",
              "    </tr>\n",
              "    <tr>\n",
              "      <th>2</th>\n",
              "      <td>7</td>\n",
              "      <td>0.081037</td>\n",
              "      <td>3</td>\n",
              "      <td>8</td>\n",
              "      <td>0.067679</td>\n",
              "    </tr>\n",
              "    <tr>\n",
              "      <th>3</th>\n",
              "      <td>1</td>\n",
              "      <td>0.486224</td>\n",
              "      <td>4</td>\n",
              "      <td>1</td>\n",
              "      <td>0.398895</td>\n",
              "    </tr>\n",
              "    <tr>\n",
              "      <th>4</th>\n",
              "      <td>1</td>\n",
              "      <td>0.486224</td>\n",
              "      <td>4</td>\n",
              "      <td>8</td>\n",
              "      <td>0.275038</td>\n",
              "    </tr>\n",
              "    <tr>\n",
              "      <th>...</th>\n",
              "      <td>...</td>\n",
              "      <td>...</td>\n",
              "      <td>...</td>\n",
              "      <td>...</td>\n",
              "      <td>...</td>\n",
              "    </tr>\n",
              "    <tr>\n",
              "      <th>1298</th>\n",
              "      <td>10</td>\n",
              "      <td>0.940032</td>\n",
              "      <td>0</td>\n",
              "      <td>5</td>\n",
              "      <td>0.078312</td>\n",
              "    </tr>\n",
              "    <tr>\n",
              "      <th>1299</th>\n",
              "      <td>10</td>\n",
              "      <td>0.952998</td>\n",
              "      <td>0</td>\n",
              "      <td>1</td>\n",
              "      <td>0.223629</td>\n",
              "    </tr>\n",
              "    <tr>\n",
              "      <th>1300</th>\n",
              "      <td>10</td>\n",
              "      <td>0.317666</td>\n",
              "      <td>3</td>\n",
              "      <td>3</td>\n",
              "      <td>0.009283</td>\n",
              "    </tr>\n",
              "    <tr>\n",
              "      <th>1301</th>\n",
              "      <td>7</td>\n",
              "      <td>0.003241</td>\n",
              "      <td>3</td>\n",
              "      <td>7</td>\n",
              "      <td>0.099578</td>\n",
              "    </tr>\n",
              "    <tr>\n",
              "      <th>1302</th>\n",
              "      <td>2</td>\n",
              "      <td>0.920583</td>\n",
              "      <td>3</td>\n",
              "      <td>5</td>\n",
              "      <td>0.032911</td>\n",
              "    </tr>\n",
              "  </tbody>\n",
              "</table>\n",
              "<p>1303 rows × 5 columns</p>\n",
              "</div>"
            ],
            "text/plain": [
              "      Company   Product  TypeName  Ram  Price_euros\n",
              "0           1  0.486224         4    8     0.196741\n",
              "1           1  0.487844         4    8     0.122353\n",
              "2           7  0.081037         3    8     0.067679\n",
              "3           1  0.486224         4    1     0.398895\n",
              "4           1  0.486224         4    8     0.275038\n",
              "...       ...       ...       ...  ...          ...\n",
              "1298       10  0.940032         0    5     0.078312\n",
              "1299       10  0.952998         0    1     0.223629\n",
              "1300       10  0.317666         3    3     0.009283\n",
              "1301        7  0.003241         3    7     0.099578\n",
              "1302        2  0.920583         3    5     0.032911\n",
              "\n",
              "[1303 rows x 5 columns]"
            ]
          },
          "metadata": {},
          "execution_count": 34
        }
      ]
    },
    {
      "cell_type": "code",
      "metadata": {
        "id": "wknBbvuf3EHb"
      },
      "source": [
        "X = dfam.iloc[:, -4:-3].values\n",
        "y = dfam.iloc[:, -1].values"
      ],
      "execution_count": null,
      "outputs": []
    },
    {
      "cell_type": "code",
      "metadata": {
        "colab": {
          "base_uri": "https://localhost:8080/"
        },
        "id": "DnsajnqF3EJJ",
        "outputId": "7760b2cb-d8bf-4486-e7dd-87df61d40477"
      },
      "source": [
        "from sklearn.ensemble import RandomForestRegressor\n",
        "regressor = RandomForestRegressor(n_estimators = 95, random_state = 78)\n",
        "regressor.fit(X, y)"
      ],
      "execution_count": null,
      "outputs": [
        {
          "output_type": "execute_result",
          "data": {
            "text/plain": [
              "RandomForestRegressor(bootstrap=True, ccp_alpha=0.0, criterion='mse',\n",
              "                      max_depth=None, max_features='auto', max_leaf_nodes=None,\n",
              "                      max_samples=None, min_impurity_decrease=0.0,\n",
              "                      min_impurity_split=None, min_samples_leaf=1,\n",
              "                      min_samples_split=2, min_weight_fraction_leaf=0.0,\n",
              "                      n_estimators=95, n_jobs=None, oob_score=False,\n",
              "                      random_state=78, verbose=0, warm_start=False)"
            ]
          },
          "metadata": {},
          "execution_count": 36
        }
      ]
    },
    {
      "cell_type": "code",
      "metadata": {
        "colab": {
          "base_uri": "https://localhost:8080/"
        },
        "id": "74qgqc-k5pVH",
        "outputId": "7725cead-2fbd-41d2-9694-87757b08e715"
      },
      "source": [
        "regressor.predict([[0.003241]])"
      ],
      "execution_count": null,
      "outputs": [
        {
          "output_type": "execute_result",
          "data": {
            "text/plain": [
              "array([0.096])"
            ]
          },
          "metadata": {},
          "execution_count": 37
        }
      ]
    },
    {
      "cell_type": "markdown",
      "metadata": {
        "id": "ScxMxnxh6qEq"
      },
      "source": [
        "By using random forest model we get an accuracy of 96 percent which is a good result for prediction."
      ]
    },
    {
      "cell_type": "code",
      "metadata": {
        "colab": {
          "base_uri": "https://localhost:8080/",
          "height": 296
        },
        "id": "j4t3mk0s5Oj8",
        "outputId": "c7205825-06e2-4875-91e3-c1298cdf1bec"
      },
      "source": [
        "X_grid = np.arange(min(X), max(X), 0.01)\n",
        "X_grid = X_grid.reshape((len(X_grid), 1))\n",
        "plt.scatter(X, y, color = 'red')\n",
        "plt.plot(X_grid, regressor.predict(X_grid), color = 'blue')\n",
        "plt.title(\"Price vs Product Name of laptop\")\n",
        "plt.xlabel(\"Product Name\")\n",
        "plt.ylabel(\"Price\")\n",
        "plt.show()"
      ],
      "execution_count": null,
      "outputs": [
        {
          "output_type": "display_data",
          "data": {
            "image/png": "[encoded data removed]",
            "text/plain": [
              "<Figure size 432x288 with 1 Axes>"
            ]
          },
          "metadata": {
            "needs_background": "light"
          }
        }
      ]
    },
    {
      "cell_type": "markdown",
      "metadata": {
        "id": "dUI_QhYY7CLy"
      },
      "source": [
        "In this random forest prediction is more accurate and cover most of the data points.The accuracy of this model is 96 percent. So this model fits far better than previous two  models."
      ]
    },
    {
      "cell_type": "markdown",
      "metadata": {
        "id": "7-4l3-ya__FX"
      },
      "source": [
        "#Decision Tree\n",
        "A decision tree is a decision support tool that uses a tree-like model of decisions and their possible consequences, including chance event outcomes, resource costs, and utility. It is one way to display an algorithm that only contains conditional control statements.\n",
        "\n",
        "Decision trees are commonly used in operations research, specifically in decision analysis, to help identify a strategy most likely to reach a goal, but are also a popular tool in machine learning.\n",
        "\n",
        "A decision tree is a flowchart-like structure in which each internal node represents a \"test\" on an attribute (e.g. whether a coin flip comes up heads or tails), each branch represents the outcome of the test, and each leaf node represents a class label (decision taken after computing all attributes). The paths from root to leaf represent classification rules."
      ]
    },
    {
      "cell_type": "code",
      "metadata": {
        "colab": {
          "base_uri": "https://localhost:8080/"
        },
        "id": "NHJRQO7p5OtX",
        "outputId": "9fd2ff94-b00a-41de-d186-72047bf8f37d"
      },
      "source": [
        "from sklearn.tree import DecisionTreeRegressor\n",
        "regressor = DecisionTreeRegressor(random_state = 45)\n",
        "regressor.fit(X,y)"
      ],
      "execution_count": null,
      "outputs": [
        {
          "output_type": "execute_result",
          "data": {
            "text/plain": [
              "DecisionTreeRegressor(ccp_alpha=0.0, criterion='mse', max_depth=None,\n",
              "                      max_features=None, max_leaf_nodes=None,\n",
              "                      min_impurity_decrease=0.0, min_impurity_split=None,\n",
              "                      min_samples_leaf=1, min_samples_split=2,\n",
              "                      min_weight_fraction_leaf=0.0, presort='deprecated',\n",
              "                      random_state=45, splitter='best')"
            ]
          },
          "metadata": {},
          "execution_count": 39
        }
      ]
    },
    {
      "cell_type": "code",
      "metadata": {
        "colab": {
          "base_uri": "https://localhost:8080/"
        },
        "id": "B69grDHoARUp",
        "outputId": "929b6a0b-f03f-4a3e-c938-590fbac65a50"
      },
      "source": [
        "regressor.predict([[0.003241]])"
      ],
      "execution_count": null,
      "outputs": [
        {
          "output_type": "execute_result",
          "data": {
            "text/plain": [
              "array([0.1])"
            ]
          },
          "metadata": {},
          "execution_count": 40
        }
      ]
    },
    {
      "cell_type": "code",
      "metadata": {
        "colab": {
          "base_uri": "https://localhost:8080/",
          "height": 296
        },
        "id": "w5-W_UMAARWj",
        "outputId": "21c76643-c011-4753-b818-703fdaea447a"
      },
      "source": [
        "X_grid = np.arange(min(X), max(X), 0.01)\n",
        "X_grid = X_grid.reshape((len(X_grid), 1))\n",
        "plt.scatter(X, y, color = 'red')\n",
        "plt.plot(X_grid, regressor.predict(X_grid), color = 'blue')\n",
        "plt.title(\"Price vs Product Name of laptop\")\n",
        "plt.xlabel(\"Product Name\")\n",
        "plt.ylabel(\"Price\")\n",
        "plt.show()"
      ],
      "execution_count": null,
      "outputs": [
        {
          "output_type": "display_data",
          "data": {
            "image/png": "[encoded data removed]",
            "text/plain": [
              "<Figure size 432x288 with 1 Axes>"
            ]
          },
          "metadata": {
            "needs_background": "light"
          }
        }
      ]
    },
    {
      "cell_type": "markdown",
      "metadata": {
        "id": "dUA_A0IA8AA6"
      },
      "source": [
        "In decision tree model the accuracy is very high than linear and multiple regression.So we can that this model is also one of the best fitted model."
      ]
    },
    {
      "cell_type": "markdown",
      "metadata": {
        "id": "7gyYzKFYBtbO"
      },
      "source": [
        "# Support  Vector Regression Model\n",
        "In machine learning, support-vector machines (SVMs, also support-vector networks) are supervised learning models with associated learning algorithms that analyze data for classification and regression analysis. Developed at AT&T Bell Laboratories by Vladimir Vapnik with colleagues (Boser et al., 1992, Guyon et al., 1993, Vapnik et al., 1997) SVMs are one of the most robust prediction methods, being based on statistical learning frameworks or VC theory proposed by Vapnik (1982, 1995) and Chervonenkis (1974). Given a set of training examples, each marked as belonging to one of two categories, an SVM training algorithm builds a model that assigns new examples to one category or the other, making it a non-probabilistic binary linear classifier (although methods such as Platt scaling exist to use SVM in a probabilistic classification setting). SVM maps training examples to points in space so as to maximise the width of the gap between the two categories. New examples are then mapped into that same space and predicted to belong to a category based on which side of the gap they fall.\n",
        "\n",
        "In addition to performing linear classification, SVMs can efficiently perform a non-linear classification using what is called the kernel trick, implicitly mapping their inputs into high-dimensional feature spaces.\n",
        "\n",
        "When data are unlabelled, supervised learning is not possible, and an unsupervised learning approach is required, which attempts to find natural clustering of the data to groups, and then map new data to these formed groups. The support-vector clustering algorithm, created by Hava Siegelmann and Vladimir Vapnik, applies the statistics of support vectors, developed in the support vector machines algorithm, to categorize unlabeled data, and is one of the most widely used clustering algorithms in industrial applications."
      ]
    },
    {
      "cell_type": "code",
      "metadata": {
        "id": "wM-6HD55B7_o"
      },
      "source": [
        "y = y.reshape(len(y), 1)"
      ],
      "execution_count": null,
      "outputs": []
    },
    {
      "cell_type": "code",
      "metadata": {
        "id": "1zKOdVEWARZY"
      },
      "source": [
        "from sklearn.preprocessing import StandardScaler\n",
        "sc_X = StandardScaler()\n",
        "sc_y = StandardScaler()\n",
        "\n",
        "X = sc_X.fit_transform(X)\n",
        "y = sc_y.fit_transform(y)"
      ],
      "execution_count": null,
      "outputs": []
    },
    {
      "cell_type": "code",
      "metadata": {
        "colab": {
          "base_uri": "https://localhost:8080/"
        },
        "id": "dXbwJ5jfB94q",
        "outputId": "5b549882-69a3-497d-eb46-9d499b1c1b4b"
      },
      "source": [
        "from sklearn.svm import SVR\n",
        "regressor = SVR(kernel = 'rbf')\n",
        "regressor.fit(X, y)"
      ],
      "execution_count": null,
      "outputs": [
        {
          "output_type": "stream",
          "name": "stderr",
          "text": [
            "/usr/local/lib/python3.7/dist-packages/sklearn/utils/validation.py:760: DataConversionWarning:\n",
            "\n",
            "A column-vector y was passed when a 1d array was expected. Please change the shape of y to (n_samples, ), for example using ravel().\n",
            "\n"
          ]
        },
        {
          "output_type": "execute_result",
          "data": {
            "text/plain": [
              "SVR(C=1.0, cache_size=200, coef0=0.0, degree=3, epsilon=0.1, gamma='scale',\n",
              "    kernel='rbf', max_iter=-1, shrinking=True, tol=0.001, verbose=False)"
            ]
          },
          "metadata": {},
          "execution_count": 44
        }
      ]
    },
    {
      "cell_type": "code",
      "metadata": {
        "colab": {
          "base_uri": "https://localhost:8080/"
        },
        "id": "zhe-alDHB97P",
        "outputId": "31b66c00-ec53-4c2a-cf0b-e29bcb852ea1"
      },
      "source": [
        "regressor.predict([[0.003241]])"
      ],
      "execution_count": null,
      "outputs": [
        {
          "output_type": "execute_result",
          "data": {
            "text/plain": [
              "array([-0.071])"
            ]
          },
          "metadata": {},
          "execution_count": 45
        }
      ]
    },
    {
      "cell_type": "code",
      "metadata": {
        "colab": {
          "base_uri": "https://localhost:8080/"
        },
        "id": "GUXg7S6PB993",
        "outputId": "9252ba82-c989-42db-fd53-c2f873c7ce81"
      },
      "source": [
        "sc_y.inverse_transform(regressor.predict(sc_X.transform([[6.5]])))"
      ],
      "execution_count": null,
      "outputs": [
        {
          "output_type": "execute_result",
          "data": {
            "text/plain": [
              "array([0.189])"
            ]
          },
          "metadata": {},
          "execution_count": 46
        }
      ]
    },
    {
      "cell_type": "code",
      "metadata": {
        "colab": {
          "base_uri": "https://localhost:8080/",
          "height": 296
        },
        "id": "crIv8ihOCWuS",
        "outputId": "1911e5b0-fbd6-47eb-ee3d-85f74ea9313b"
      },
      "source": [
        "plt.scatter(sc_X.inverse_transform(X), sc_y.inverse_transform(y), color = 'red')\n",
        "plt.plot(sc_X.inverse_transform(X), sc_y.inverse_transform(regressor.predict(X)), color = 'blue')\n",
        "plt.title(\"Price vs Product Name of laptop\")\n",
        "plt.xlabel(\"Product Name\")\n",
        "plt.ylabel(\"Price\")\n",
        "plt.show()"
      ],
      "execution_count": null,
      "outputs": [
        {
          "output_type": "display_data",
          "data": {
            "image/png": "[encoded data removed]",
            "text/plain": [
              "<Figure size 432x288 with 1 Axes>"
            ]
          },
          "metadata": {
            "needs_background": "light"
          }
        }
      ]
    },
    {
      "cell_type": "markdown",
      "metadata": {
        "id": "Yo1Sqb719Q80"
      },
      "source": [
        "In SVM we are deviding the data points in 2 plane.In the middle the blue colored plane is called hyperplane. But unfortunately this model is not the best fitted model as per our visualisation."
      ]
    },
    {
      "cell_type": "code",
      "metadata": {
        "id": "nlcotMxGCWw9"
      },
      "source": [
        ""
      ],
      "execution_count": null,
      "outputs": []
    },
    {
      "cell_type": "code",
      "metadata": {
        "id": "4Z4YFEdhCW1j"
      },
      "source": [
        ""
      ],
      "execution_count": null,
      "outputs": []
    }
  ]
}